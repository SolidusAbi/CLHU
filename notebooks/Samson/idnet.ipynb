{
 "cells": [
  {
   "cell_type": "code",
   "execution_count": null,
   "metadata": {},
   "outputs": [],
   "source": [
    "import os\n",
    "import sys\n",
    "project_root_dir = os.path.join(os.getcwd(),'../..')\n",
    "if project_root_dir not in sys.path:\n",
    "    sys.path.append(project_root_dir)\n",
    "\n",
    "import config\n",
    "import numpy as np\n",
    "import torch\n",
    "\n",
    "from utils import show_abundance, plot_endmembers\n",
    "from dataset import Samson\n",
    "from HySpecLab.metrics import rmse, sad\n",
    "from matplotlib import pyplot as plt\n",
    "from scipy import io"
   ]
  },
  {
   "cell_type": "code",
   "execution_count": null,
   "metadata": {},
   "outputs": [],
   "source": [
    "from dataset import Samson\n",
    "dataset = Samson(config.Samson_PATH)\n",
    "result_path = os.path.join(config.RESULTS_PATH, 'samson')"
   ]
  },
  {
   "cell_type": "markdown",
   "metadata": {},
   "source": [
    "## Results"
   ]
  },
  {
   "cell_type": "code",
   "execution_count": null,
   "metadata": {},
   "outputs": [],
   "source": [
    "idnet_result_path = os.path.join(result_path, 'idnet/result')\n",
    "endmember_init = ['nfindr', 'vca']\n",
    "\n",
    "M = dataset.endmembers()\n",
    "A = dataset.abundance()\n",
    "Y = (dataset.A @ dataset.endmembers()).reshape(95, 95, -1)\n",
    "\n",
    "for _endmember_init in endmember_init:\n",
    "    files = os.listdir(os.path.join(idnet_result_path, f'{_endmember_init}'))\n",
    "    batch_rmse_x = []\n",
    "    batch_rmse_a = []\n",
    "    batch_sad_m = []\n",
    "    for f in files:\n",
    "        if f.endswith('.mat'):\n",
    "            result = io.loadmat(os.path.join(idnet_result_path, f'{_endmember_init}/{f}'))\n",
    "            M_hat = torch.tensor(result['Mn_est']).mean(axis=2).T\n",
    "            A_hat = torch.tensor(np.transpose(result['A_est'].reshape(3,95,95), (1,2,0)))\n",
    "            X_hat = torch.tensor(np.transpose(result['Y_rec'].reshape(-1, 95, 95), (1,2,0)))\n",
    "\n",
    "            rmse_x = rmse(Y, X_hat, dim=None)\n",
    "            rmse_a = rmse(A, A_hat, dim=None)\n",
    "            sad_x = np.diagonal(sad(M, M_hat)).mean()\n",
    "            batch_rmse_x.append(rmse_x)\n",
    "            batch_rmse_a.append(rmse_a)\n",
    "            batch_sad_m.append(sad_x)\n",
    "        \n",
    "    import pandas as pd\n",
    "    df = pd.DataFrame(columns=['RMSE_X', 'RMSE_A', 'SAD_M'])\n",
    "    df['RMSE_X'] = batch_rmse_x\n",
    "    df['RMSE_A'] = batch_rmse_a\n",
    "    df['SAD_M'] = batch_sad_m\n",
    "\n",
    "    # extract mean and std\n",
    "    df.to_csv(os.path.join(idnet_result_path, 'metrics_{}_batch.csv'.format(_endmember_init)), index=False)\n",
    "    print(_endmember_init, df['RMSE_X'].mean(), df['RMSE_X'].std(), df['RMSE_A'].mean(), df['RMSE_A'].std(), df['SAD_M'].mean(), df['SAD_M'].std())"
   ]
  },
  {
   "cell_type": "code",
   "execution_count": null,
   "metadata": {},
   "outputs": [],
   "source": [
    "from utils import show_abundance\n",
    "\n",
    "idnet_imgs_path = os.path.join(result_path, 'idnet/imgs')\n",
    "\n",
    "fig = show_abundance(A_hat, transpose=False)\n",
    "plt.show(fig)\n",
    "\n",
    "fig.savefig(os.path.join(idnet_imgs_path, 'A_hat.pdf'), bbox_inches='tight')"
   ]
  },
  {
   "cell_type": "code",
   "execution_count": null,
   "metadata": {},
   "outputs": [],
   "source": []
  }
 ],
 "metadata": {
  "kernelspec": {
   "display_name": "DeepLearning",
   "language": "python",
   "name": "python3"
  },
  "language_info": {
   "codemirror_mode": {
    "name": "ipython",
    "version": 3
   },
   "file_extension": ".py",
   "mimetype": "text/x-python",
   "name": "python",
   "nbconvert_exporter": "python",
   "pygments_lexer": "ipython3",
   "version": "3.10.9"
  }
 },
 "nbformat": 4,
 "nbformat_minor": 2
}
