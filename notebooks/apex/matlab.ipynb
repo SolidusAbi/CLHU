{
 "cells": [
  {
   "cell_type": "code",
   "execution_count": 16,
   "metadata": {},
   "outputs": [],
   "source": [
    "import os, sys\n",
    "project_root_dir = os.path.join(os.getcwd(),'../..')\n",
    "if project_root_dir not in sys.path:\n",
    "    sys.path.append(project_root_dir)\n",
    "\n",
    "from matplotlib import pyplot as plt\n",
    "import numpy as np\n",
    "import torch\n",
    "import config\n",
    "\n",
    "from HySpecLab.metrics import rmse, sad"
   ]
  },
  {
   "cell_type": "code",
   "execution_count": 17,
   "metadata": {},
   "outputs": [],
   "source": [
    "from dataset import Apex\n",
    "dataset = Apex(config.Apex_PATH)\n",
    "\n",
    "result_path = os.path.join(config.RESULTS_PATH, 'apex/matlab/')\n",
    "X_true = dataset.A@dataset.endmembers()"
   ]
  },
  {
   "cell_type": "code",
   "execution_count": 13,
   "metadata": {},
   "outputs": [],
   "source": [
    "path = '/home/abian/Data/Thesis/CLHU/results/apex/matlab/result/'\n",
    "\n",
    "from scipy import io as sio\n",
    "# data = sio.loadmat(path+'SocialSparseU.mat')\n",
    "data = sio.loadmat(path+'FCLS.mat')\n",
    "\n",
    "\n",
    "eea = sio.loadmat(os.path.join(path, '../endmember_estimation.mat'))\n",
    "M_nfindr = eea['NFINDR']\n",
    "M_vca = eea['VCA']"
   ]
  },
  {
   "attachments": {},
   "cell_type": "markdown",
   "metadata": {},
   "source": [
    "# FCLS"
   ]
  },
  {
   "cell_type": "code",
   "execution_count": 21,
   "metadata": {},
   "outputs": [
    {
     "name": "stdout",
     "output_type": "stream",
     "text": [
      "tensor([[0.0989, 0.7223, 0.3660, 0.9692],\n",
      "        [0.6864, 0.0955, 0.9349, 1.1493],\n",
      "        [0.4776, 0.9510, 0.0870, 1.2294],\n",
      "        [0.8940, 1.1570, 1.2111, 0.1542]]) 0.108870015\n",
      "tensor([[0.2261, 0.6330, 0.6639, 0.7890],\n",
      "        [0.6920, 0.1275, 0.9165, 1.1744],\n",
      "        [0.4886, 0.9496, 0.0964, 1.2505],\n",
      "        [0.9786, 1.2290, 1.2752, 0.1548]]) 0.15118685\n"
     ]
    },
    {
     "data": {
      "text/html": [
       "<div>\n",
       "<style scoped>\n",
       "    .dataframe tbody tr th:only-of-type {\n",
       "        vertical-align: middle;\n",
       "    }\n",
       "\n",
       "    .dataframe tbody tr th {\n",
       "        vertical-align: top;\n",
       "    }\n",
       "\n",
       "    .dataframe thead th {\n",
       "        text-align: right;\n",
       "    }\n",
       "</style>\n",
       "<table border=\"1\" class=\"dataframe\">\n",
       "  <thead>\n",
       "    <tr style=\"text-align: right;\">\n",
       "      <th></th>\n",
       "      <th>Method</th>\n",
       "      <th>RMSE_X</th>\n",
       "      <th>RMSE_A</th>\n",
       "      <th>SAD_M</th>\n",
       "    </tr>\n",
       "  </thead>\n",
       "  <tbody>\n",
       "    <tr>\n",
       "      <th>0</th>\n",
       "      <td>LMM+NFINDR</td>\n",
       "      <td>0.06719946</td>\n",
       "      <td>0.2730617391982198</td>\n",
       "      <td>0.151187</td>\n",
       "    </tr>\n",
       "    <tr>\n",
       "      <th>1</th>\n",
       "      <td>LMM+VCA</td>\n",
       "      <td>0.06700777</td>\n",
       "      <td>0.2800929103536152</td>\n",
       "      <td>0.108870</td>\n",
       "    </tr>\n",
       "  </tbody>\n",
       "</table>\n",
       "</div>"
      ],
      "text/plain": [
       "       Method      RMSE_X              RMSE_A     SAD_M\n",
       "0  LMM+NFINDR  0.06719946  0.2730617391982198  0.151187\n",
       "1     LMM+VCA  0.06700777  0.2800929103536152  0.108870"
      ]
     },
     "execution_count": 21,
     "metadata": {},
     "output_type": "execute_result"
    }
   ],
   "source": [
    "fcls_filename = os.path.join(result_path, 'result/FCLS.mat')\n",
    "FCLS = sio.loadmat(fcls_filename)\n",
    "\n",
    "M_VCA = sio.loadmat(os.path.join(result_path, 'endmember_estimation.mat'))['VCA']\n",
    "M_NFINDR = sio.loadmat(os.path.join(result_path, 'endmember_estimation.mat'))['NFINDR']\n",
    "M_VCA, M_NFINDR = torch.from_numpy(M_VCA), torch.from_numpy(M_NFINDR)\n",
    "\n",
    "\n",
    "sad_result_vca = sad(M_VCA, dataset.endmembers())\n",
    "print(sad_result_vca, np.diagonal(sad_result_vca.numpy()).mean())\n",
    "sad_vca = np.diagonal(sad_result_vca.numpy()).mean()\n",
    "\n",
    "sad_result_nfindr = sad(M_NFINDR, dataset.endmembers())\n",
    "print(sad_result_nfindr, np.diagonal(sad_result_nfindr.numpy()).mean())\n",
    "sad_nfindr = np.diagonal(sad_result_nfindr.numpy()).mean()\n",
    "\n",
    "\n",
    "nfindr_reconstruct = torch.tensor(FCLS['Xhat_NFINDR'].T)\n",
    "vca_reconstruct = torch.tensor(FCLS['Xhat_VCA'].T)\n",
    "nfindr_A = torch.tensor(FCLS['A_NFINDR'].T)\n",
    "vca_A = torch.tensor(FCLS['A_VCA'].T)\n",
    "\n",
    "import pandas as pd\n",
    "fcls_df = pd.DataFrame(columns=['Method', 'RMSE_X', 'RMSE_A', 'SAD_M'])\n",
    "fcls_df['Method'] = ['LMM+NFINDR', 'LMM+VCA']\n",
    "fcls_df['RMSE_X'] = [rmse(X_true, nfindr_reconstruct, dim=None).numpy(), rmse(X_true, vca_reconstruct, dim=None).numpy()]\n",
    "fcls_df['RMSE_A'] = [rmse(dataset.A, nfindr_A, dim=None).numpy(), rmse(dataset.A, vca_A, dim=None).numpy()]\n",
    "fcls_df['SAD_M'] = [sad_nfindr, sad_vca]\n",
    "fcls_df"
   ]
  },
  {
   "attachments": {},
   "cell_type": "markdown",
   "metadata": {},
   "source": [
    "# ELMM"
   ]
  },
  {
   "cell_type": "code",
   "execution_count": 26,
   "metadata": {},
   "outputs": [
    {
     "name": "stdout",
     "output_type": "stream",
     "text": [
      "tensor([[0.0988, 0.7223, 0.3662, 0.9691],\n",
      "        [0.6874, 0.0973, 0.9346, 1.1510],\n",
      "        [0.4778, 0.9511, 0.0871, 1.2296],\n",
      "        [0.7950, 1.0780, 1.1130, 0.1817]]) 0.11621392\n",
      "tensor([[0.2260, 0.6331, 0.6639, 0.7891],\n",
      "        [0.6924, 0.1287, 0.9166, 1.1751],\n",
      "        [0.4887, 0.9497, 0.0958, 1.2506],\n",
      "        [0.8624, 1.1630, 1.1555, 0.1497]]) 0.15004736\n"
     ]
    },
    {
     "data": {
      "text/html": [
       "<div>\n",
       "<style scoped>\n",
       "    .dataframe tbody tr th:only-of-type {\n",
       "        vertical-align: middle;\n",
       "    }\n",
       "\n",
       "    .dataframe tbody tr th {\n",
       "        vertical-align: top;\n",
       "    }\n",
       "\n",
       "    .dataframe thead th {\n",
       "        text-align: right;\n",
       "    }\n",
       "</style>\n",
       "<table border=\"1\" class=\"dataframe\">\n",
       "  <thead>\n",
       "    <tr style=\"text-align: right;\">\n",
       "      <th></th>\n",
       "      <th>Method</th>\n",
       "      <th>RMSE_X</th>\n",
       "      <th>RMSE_A</th>\n",
       "      <th>SAD_M</th>\n",
       "    </tr>\n",
       "  </thead>\n",
       "  <tbody>\n",
       "    <tr>\n",
       "      <th>0</th>\n",
       "      <td>ELMM+NFINDR</td>\n",
       "      <td>0.06773110980365786</td>\n",
       "      <td>0.2798459291388956</td>\n",
       "      <td>0.150047</td>\n",
       "    </tr>\n",
       "    <tr>\n",
       "      <th>1</th>\n",
       "      <td>ELMM+VCA</td>\n",
       "      <td>0.06754392291343006</td>\n",
       "      <td>0.2847438442584857</td>\n",
       "      <td>0.116214</td>\n",
       "    </tr>\n",
       "  </tbody>\n",
       "</table>\n",
       "</div>"
      ],
      "text/plain": [
       "        Method               RMSE_X              RMSE_A     SAD_M\n",
       "0  ELMM+NFINDR  0.06773110980365786  0.2798459291388956  0.150047\n",
       "1     ELMM+VCA  0.06754392291343006  0.2847438442584857  0.116214"
      ]
     },
     "execution_count": 26,
     "metadata": {},
     "output_type": "execute_result"
    }
   ],
   "source": [
    "elmm_filename = os.path.join(result_path, 'result/ELMM.mat')\n",
    "ELMM = sio.loadmat(elmm_filename)\n",
    "save_dir = os.path.join(result_path, 'imgs/ELMM')\n",
    "\n",
    "nfindr_reconstruct = torch.tensor(ELMM['Xhat_NFINDR'].T)\n",
    "vca_reconstruct = torch.tensor(ELMM['Xhat_VCA'].T)\n",
    "nfindr_A = torch.tensor(ELMM['A_NFINDR'].T)\n",
    "vca_A = torch.tensor(ELMM['A_VCA'].T)\n",
    "M_VCA = torch.from_numpy(ELMM['M_VCA']).mean(dim=2).T\n",
    "M_NFINDR = torch.from_numpy(ELMM['M_NFINDR']).mean(dim=2).T\n",
    "\n",
    "sad_result_vca = sad(M_VCA, dataset.endmembers())\n",
    "print(sad_result_vca, np.diagonal(sad_result_vca.numpy()).mean())\n",
    "sad_vca = np.diagonal(sad_result_vca.numpy()).mean()\n",
    "\n",
    "sad_result_nfindr = sad(M_NFINDR, dataset.endmembers())\n",
    "print(sad_result_nfindr, np.diagonal(sad_result_nfindr.numpy()).mean())\n",
    "sad_nfindr = np.diagonal(sad_result_nfindr.numpy()).mean()\n",
    "\n",
    "import pandas as pd\n",
    "elmm_df = pd.DataFrame(columns=['Method', 'RMSE_X', 'RMSE_A', 'SAD_M'])\n",
    "elmm_df['Method'] = ['ELMM+NFINDR', 'ELMM+VCA']\n",
    "elmm_df['RMSE_X'] = [rmse(X_true, nfindr_reconstruct, dim=None).numpy(), rmse(X_true, vca_reconstruct, dim=None).numpy()]\n",
    "elmm_df['RMSE_A'] = [rmse(dataset.A, nfindr_A, dim=None).numpy(), rmse(dataset.A, vca_A, dim=None).numpy()]\n",
    "elmm_df['SAD_M'] = [sad_nfindr, sad_vca]\n",
    "\n",
    "elmm_df"
   ]
  },
  {
   "attachments": {},
   "cell_type": "markdown",
   "metadata": {},
   "source": [
    "# MESMA"
   ]
  },
  {
   "cell_type": "code",
   "execution_count": 29,
   "metadata": {},
   "outputs": [
    {
     "name": "stdout",
     "output_type": "stream",
     "text": [
      "tensor([[0.5438, 1.0190, 0.1060, 1.2852],\n",
      "        [0.7640, 0.2158, 1.0541, 1.1634],\n",
      "        [0.5453, 1.0216, 0.1074, 1.2862],\n",
      "        [0.8289, 1.1448, 1.1840, 0.5017]]) 0.3421811\n",
      "tensor([[0.7513, 0.2214, 1.0387, 1.1632],\n",
      "        [0.7515, 0.2191, 1.0381, 1.1644],\n",
      "        [0.5653, 1.0506, 0.1313, 1.2962],\n",
      "        [0.8401, 1.1465, 1.1966, 0.4976]]) 0.3998248\n"
     ]
    },
    {
     "data": {
      "text/html": [
       "<div>\n",
       "<style scoped>\n",
       "    .dataframe tbody tr th:only-of-type {\n",
       "        vertical-align: middle;\n",
       "    }\n",
       "\n",
       "    .dataframe tbody tr th {\n",
       "        vertical-align: top;\n",
       "    }\n",
       "\n",
       "    .dataframe thead th {\n",
       "        text-align: right;\n",
       "    }\n",
       "</style>\n",
       "<table border=\"1\" class=\"dataframe\">\n",
       "  <thead>\n",
       "    <tr style=\"text-align: right;\">\n",
       "      <th></th>\n",
       "      <th>Method</th>\n",
       "      <th>RMSE_X</th>\n",
       "      <th>RMSE_A</th>\n",
       "      <th>SAD_M</th>\n",
       "    </tr>\n",
       "  </thead>\n",
       "  <tbody>\n",
       "    <tr>\n",
       "      <th>0</th>\n",
       "      <td>MESMA+NFINDR</td>\n",
       "      <td>0.04932898786945305</td>\n",
       "      <td>0.2900328180042571</td>\n",
       "      <td>0.399825</td>\n",
       "    </tr>\n",
       "    <tr>\n",
       "      <th>1</th>\n",
       "      <td>MESMA+VCA</td>\n",
       "      <td>0.05398183938243802</td>\n",
       "      <td>0.18961419294616047</td>\n",
       "      <td>0.342181</td>\n",
       "    </tr>\n",
       "  </tbody>\n",
       "</table>\n",
       "</div>"
      ],
      "text/plain": [
       "         Method               RMSE_X               RMSE_A     SAD_M\n",
       "0  MESMA+NFINDR  0.04932898786945305   0.2900328180042571  0.399825\n",
       "1     MESMA+VCA  0.05398183938243802  0.18961419294616047  0.342181"
      ]
     },
     "execution_count": 29,
     "metadata": {},
     "output_type": "execute_result"
    }
   ],
   "source": [
    "mesma_filename = os.path.join(result_path, 'result/MESMA.mat')\n",
    "MESMA = sio.loadmat(mesma_filename)\n",
    "save_dir = os.path.join(result_path, 'imgs/MESMA')\n",
    "\n",
    "nfindr_reconstruct = torch.tensor(MESMA['Xhat_NFINDR'].T)\n",
    "vca_reconstruct = torch.tensor(MESMA['Xhat_VCA'].T)\n",
    "nfindr_A = torch.tensor(MESMA['A_NFINDR'].T)\n",
    "vca_A = torch.tensor(MESMA['A_VCA'].T)\n",
    "M_VCA = torch.from_numpy(MESMA['M_VCA']).mean(dim=2).T.float()\n",
    "M_NFINDR = torch.from_numpy(MESMA['M_NFINDR']).mean(dim=2).T.float()\n",
    "\n",
    "sad_result_vca = sad(M_VCA, dataset.endmembers())\n",
    "print(sad_result_vca, np.diagonal(sad_result_vca.numpy()).mean())\n",
    "sad_vca = np.diagonal(sad_result_vca.numpy()).mean()\n",
    "\n",
    "sad_result_nfindr = sad(M_NFINDR, dataset.endmembers())\n",
    "print(sad_result_nfindr, np.diagonal(sad_result_nfindr.numpy()).mean())\n",
    "sad_nfindr = np.diagonal(sad_result_nfindr.numpy()).mean()\n",
    "\n",
    "import pandas as pd\n",
    "mesma_df = pd.DataFrame(columns=['Method', 'RMSE_X', 'RMSE_A', 'SAD_M'])\n",
    "mesma_df['Method'] = ['MESMA+NFINDR', 'MESMA+VCA']\n",
    "mesma_df['RMSE_X'] = [rmse(X_true, nfindr_reconstruct, dim=None).numpy(), rmse(X_true, vca_reconstruct, dim=None).numpy()]\n",
    "mesma_df['RMSE_A'] = [rmse(dataset.A, nfindr_A, dim=None).numpy(), rmse(dataset.A, vca_A, dim=None).numpy()]\n",
    "mesma_df['SAD_M'] = [sad_nfindr, sad_vca]\n",
    "\n",
    "mesma_df"
   ]
  },
  {
   "attachments": {},
   "cell_type": "markdown",
   "metadata": {},
   "source": [
    "# SocialSparseU"
   ]
  },
  {
   "cell_type": "code",
   "execution_count": 30,
   "metadata": {},
   "outputs": [
    {
     "name": "stdout",
     "output_type": "stream",
     "text": [
      "tensor([[0.5437, 1.0190, 0.1060, 1.2852],\n",
      "        [0.7609, 0.2205, 1.0518, 1.1621],\n",
      "        [0.5570, 1.0318, 0.1181, 1.2924],\n",
      "        [0.8317, 1.1460, 1.1866, 0.4976]]) 0.3449915\n",
      "tensor([[0.7478, 0.2166, 1.0362, 1.1594],\n",
      "        [0.7540, 0.2261, 1.0405, 1.1667],\n",
      "        [0.5645, 1.0502, 0.1307, 1.2961],\n",
      "        [0.8397, 1.1464, 1.1962, 0.4992]]) 0.40095648\n"
     ]
    },
    {
     "data": {
      "text/html": [
       "<div>\n",
       "<style scoped>\n",
       "    .dataframe tbody tr th:only-of-type {\n",
       "        vertical-align: middle;\n",
       "    }\n",
       "\n",
       "    .dataframe tbody tr th {\n",
       "        vertical-align: top;\n",
       "    }\n",
       "\n",
       "    .dataframe thead th {\n",
       "        text-align: right;\n",
       "    }\n",
       "</style>\n",
       "<table border=\"1\" class=\"dataframe\">\n",
       "  <thead>\n",
       "    <tr style=\"text-align: right;\">\n",
       "      <th></th>\n",
       "      <th>Method</th>\n",
       "      <th>RMSE_X</th>\n",
       "      <th>RMSE_A</th>\n",
       "      <th>SAD_M</th>\n",
       "    </tr>\n",
       "  </thead>\n",
       "  <tbody>\n",
       "    <tr>\n",
       "      <th>0</th>\n",
       "      <td>SSU+NFINDR</td>\n",
       "      <td>0.049139462582039245</td>\n",
       "      <td>0.4115032984644806</td>\n",
       "      <td>0.400956</td>\n",
       "    </tr>\n",
       "    <tr>\n",
       "      <th>1</th>\n",
       "      <td>SSU+VCA</td>\n",
       "      <td>0.05396844302029524</td>\n",
       "      <td>0.25850050099769145</td>\n",
       "      <td>0.344992</td>\n",
       "    </tr>\n",
       "  </tbody>\n",
       "</table>\n",
       "</div>"
      ],
      "text/plain": [
       "       Method                RMSE_X               RMSE_A     SAD_M\n",
       "0  SSU+NFINDR  0.049139462582039245   0.4115032984644806  0.400956\n",
       "1     SSU+VCA   0.05396844302029524  0.25850050099769145  0.344992"
      ]
     },
     "execution_count": 30,
     "metadata": {},
     "output_type": "execute_result"
    }
   ],
   "source": [
    "ssu_filename = os.path.join(result_path, 'result/SocialSparseU.mat')\n",
    "SSU = sio.loadmat(ssu_filename)\n",
    "save_dir = os.path.join(result_path, 'imgs/SSU')\n",
    "\n",
    "nfindr_reconstruct = torch.tensor(SSU['Xhat_NFINDR'].T)\n",
    "vca_reconstruct = torch.tensor(SSU['Xhat_VCA'].T)\n",
    "nfindr_A = torch.tensor(SSU['A_NFINDR'].T)\n",
    "vca_A = torch.tensor(SSU['A_VCA'].T)\n",
    "M_VCA = torch.from_numpy(SSU['M_VCA']).mean(dim=2).T.float()\n",
    "M_NFINDR = torch.from_numpy(SSU['M_NFINDR']).mean(dim=2).T.float()\n",
    "\n",
    "sad_result_vca = sad(M_VCA, dataset.endmembers())\n",
    "print(sad_result_vca, np.diagonal(sad_result_vca.numpy()).mean())\n",
    "sad_vca = np.diagonal(sad_result_vca.numpy()).mean()\n",
    "\n",
    "sad_result_nfindr = sad(M_NFINDR, dataset.endmembers())\n",
    "print(sad_result_nfindr, np.diagonal(sad_result_nfindr.numpy()).mean())\n",
    "sad_nfindr = np.diagonal(sad_result_nfindr.numpy()).mean()\n",
    "\n",
    "import pandas as pd\n",
    "ssu_df = pd.DataFrame(columns=['Method', 'RMSE_X', 'RMSE_A', 'SAD_M'])\n",
    "ssu_df['Method'] = ['SSU+NFINDR', 'SSU+VCA']\n",
    "ssu_df['RMSE_X'] = [rmse(X_true, nfindr_reconstruct, dim=None).numpy(), rmse(X_true, vca_reconstruct, dim=None).numpy()]\n",
    "ssu_df['RMSE_A'] = [rmse(dataset.A, nfindr_A, dim=None).numpy(), rmse(dataset.A, vca_A, dim=None).numpy()]\n",
    "ssu_df['SAD_M'] = [sad_nfindr, sad_vca]\n",
    "\n",
    "ssu_df"
   ]
  },
  {
   "attachments": {},
   "cell_type": "markdown",
   "metadata": {},
   "source": [
    "# Save Dateframe"
   ]
  },
  {
   "cell_type": "code",
   "execution_count": 32,
   "metadata": {},
   "outputs": [
    {
     "data": {
      "text/html": [
       "<div>\n",
       "<style scoped>\n",
       "    .dataframe tbody tr th:only-of-type {\n",
       "        vertical-align: middle;\n",
       "    }\n",
       "\n",
       "    .dataframe tbody tr th {\n",
       "        vertical-align: top;\n",
       "    }\n",
       "\n",
       "    .dataframe thead th {\n",
       "        text-align: right;\n",
       "    }\n",
       "</style>\n",
       "<table border=\"1\" class=\"dataframe\">\n",
       "  <thead>\n",
       "    <tr style=\"text-align: right;\">\n",
       "      <th></th>\n",
       "      <th>Method</th>\n",
       "      <th>RMSE_X</th>\n",
       "      <th>RMSE_A</th>\n",
       "      <th>SAD_M</th>\n",
       "    </tr>\n",
       "  </thead>\n",
       "  <tbody>\n",
       "    <tr>\n",
       "      <th>0</th>\n",
       "      <td>LMM+NFINDR</td>\n",
       "      <td>0.06719946</td>\n",
       "      <td>0.2730617391982198</td>\n",
       "      <td>0.151187</td>\n",
       "    </tr>\n",
       "    <tr>\n",
       "      <th>1</th>\n",
       "      <td>LMM+VCA</td>\n",
       "      <td>0.06700777</td>\n",
       "      <td>0.2800929103536152</td>\n",
       "      <td>0.108870</td>\n",
       "    </tr>\n",
       "    <tr>\n",
       "      <th>0</th>\n",
       "      <td>ELMM+NFINDR</td>\n",
       "      <td>0.06773110980365786</td>\n",
       "      <td>0.2798459291388956</td>\n",
       "      <td>0.150047</td>\n",
       "    </tr>\n",
       "    <tr>\n",
       "      <th>1</th>\n",
       "      <td>ELMM+VCA</td>\n",
       "      <td>0.06754392291343006</td>\n",
       "      <td>0.2847438442584857</td>\n",
       "      <td>0.116214</td>\n",
       "    </tr>\n",
       "    <tr>\n",
       "      <th>0</th>\n",
       "      <td>MESMA+NFINDR</td>\n",
       "      <td>0.04932898786945305</td>\n",
       "      <td>0.2900328180042571</td>\n",
       "      <td>0.399825</td>\n",
       "    </tr>\n",
       "    <tr>\n",
       "      <th>1</th>\n",
       "      <td>MESMA+VCA</td>\n",
       "      <td>0.05398183938243802</td>\n",
       "      <td>0.18961419294616047</td>\n",
       "      <td>0.342181</td>\n",
       "    </tr>\n",
       "    <tr>\n",
       "      <th>0</th>\n",
       "      <td>SSU+NFINDR</td>\n",
       "      <td>0.049139462582039245</td>\n",
       "      <td>0.4115032984644806</td>\n",
       "      <td>0.400956</td>\n",
       "    </tr>\n",
       "    <tr>\n",
       "      <th>1</th>\n",
       "      <td>SSU+VCA</td>\n",
       "      <td>0.05396844302029524</td>\n",
       "      <td>0.25850050099769145</td>\n",
       "      <td>0.344992</td>\n",
       "    </tr>\n",
       "  </tbody>\n",
       "</table>\n",
       "</div>"
      ],
      "text/plain": [
       "         Method                RMSE_X               RMSE_A     SAD_M\n",
       "0    LMM+NFINDR            0.06719946   0.2730617391982198  0.151187\n",
       "1       LMM+VCA            0.06700777   0.2800929103536152  0.108870\n",
       "0   ELMM+NFINDR   0.06773110980365786   0.2798459291388956  0.150047\n",
       "1      ELMM+VCA   0.06754392291343006   0.2847438442584857  0.116214\n",
       "0  MESMA+NFINDR   0.04932898786945305   0.2900328180042571  0.399825\n",
       "1     MESMA+VCA   0.05398183938243802  0.18961419294616047  0.342181\n",
       "0    SSU+NFINDR  0.049139462582039245   0.4115032984644806  0.400956\n",
       "1       SSU+VCA   0.05396844302029524  0.25850050099769145  0.344992"
      ]
     },
     "execution_count": 32,
     "metadata": {},
     "output_type": "execute_result"
    }
   ],
   "source": [
    "df = pd.concat([fcls_df, elmm_df, mesma_df, ssu_df])\n",
    "df.to_csv(os.path.join(result_path, 'metrics.csv'), index=False)\n",
    "df"
   ]
  }
 ],
 "metadata": {
  "kernelspec": {
   "display_name": "CLHU",
   "language": "python",
   "name": "python3"
  },
  "language_info": {
   "codemirror_mode": {
    "name": "ipython",
    "version": 3
   },
   "file_extension": ".py",
   "mimetype": "text/x-python",
   "name": "python",
   "nbconvert_exporter": "python",
   "pygments_lexer": "ipython3",
   "version": "3.10.10"
  },
  "orig_nbformat": 4
 },
 "nbformat": 4,
 "nbformat_minor": 2
}
