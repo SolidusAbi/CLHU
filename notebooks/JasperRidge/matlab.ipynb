{
 "cells": [
  {
   "cell_type": "code",
   "execution_count": null,
   "metadata": {},
   "outputs": [],
   "source": [
    "import os, sys\n",
    "project_root_dir = os.path.join(os.getcwd(),'../..')\n",
    "if project_root_dir not in sys.path:\n",
    "    sys.path.append(project_root_dir)\n",
    "\n",
    "from matplotlib import pyplot as plt\n",
    "import numpy as np\n",
    "import torch\n",
    "import config\n",
    "\n",
    "from utils import show_abundance, plot_endmembers\n",
    "from dataset import SyntheticDataset, SyntheticDatasetType\n",
    "from HySpecLab.metrics import rmse, sad"
   ]
  },
  {
   "cell_type": "code",
   "execution_count": null,
   "metadata": {},
   "outputs": [],
   "source": [
    "from dataset import JasperRidge\n",
    "dataset = JasperRidge(config.JasperRidge_PATH)\n",
    "dataset_name = 'JasperRidge'\n",
    "\n",
    "result_path = os.path.join(config.RESULTS_PATH, 'jasperRidge/matlab')"
   ]
  },
  {
   "cell_type": "code",
   "execution_count": null,
   "metadata": {},
   "outputs": [],
   "source": [
    "from scipy import io as sio\n",
    "\n",
    "endmember_estimation = sio.loadmat(os.path.join(result_path, 'endmember_estimation.mat'))\n",
    "vca_ee = torch.tensor(endmember_estimation['VCA'])\n",
    "nfindr_ee = torch.tensor(endmember_estimation['NFINDR'])\n",
    "\n",
    "sad_result = sad(vca_ee, dataset.endmembers())\n",
    "vca_idx = torch.argmin(sad_result, dim=0) # Index for reordering the ground truth\n",
    "\n",
    "sad_result = sad(nfindr_ee, dataset.endmembers())\n",
    "nfindr_idx = torch.argmin(sad_result, dim=0) # Index for reordering the ground truth\n",
    "\n",
    "vca_ee = vca_ee[vca_idx]\n",
    "nfindr_ee = nfindr_ee[nfindr_idx]"
   ]
  },
  {
   "cell_type": "markdown",
   "metadata": {},
   "source": []
  },
  {
   "cell_type": "code",
   "execution_count": null,
   "metadata": {},
   "outputs": [],
   "source": [
    "fig = plot_endmembers(dataset.endmembers(), ticks_range=(0, 1), \n",
    "                      endmember_estimation=[nfindr_ee, vca_ee],\n",
    "                      ee_labels=['Ground Truth', 'NFINDR', 'VCA'])\n",
    "plt.show(fig)\n",
    "# fig.savefig(os.path.join(result_path, 'imgs/endmembers_estimation.pdf'), bbox_inches='tight')"
   ]
  },
  {
   "cell_type": "code",
   "execution_count": null,
   "metadata": {},
   "outputs": [],
   "source": [
    "from HySpecLab.metrics import sad\n",
    "\n",
    "sad_result_vca = sad(vca_ee, dataset.endmembers())\n",
    "print(sad_result_vca, np.diagonal(sad_result_vca.numpy()).mean())\n",
    "sad_vca = np.diagonal(sad_result_vca.numpy()).mean()\n",
    "\n",
    "sad_result_nfindr = sad(nfindr_ee, dataset.endmembers())\n",
    "print(sad_result_nfindr, np.diagonal(sad_result_nfindr.numpy()).mean())\n",
    "sad_nfindr = np.diagonal(sad_result_nfindr.numpy()).mean()"
   ]
  },
  {
   "cell_type": "code",
   "execution_count": null,
   "metadata": {},
   "outputs": [],
   "source": [
    "FCLS = sio.loadmat(os.path.join(result_path, 'FCLS.mat'))\n",
    "save_dir = os.path.join(result_path, 'imgs/LMM')\n",
    "\n",
    "X_true = dataset.A @ dataset.endmembers()\n",
    "\n",
    "\n",
    "Xhat = FCLS['Xhat_NFINDR'].T\n",
    "\n",
    "nfindr_reconstruct = torch.tensor(FCLS['Xhat_NFINDR'].T)\n",
    "vca_reconstruct = torch.tensor(FCLS['Xhat_VCA'].T)\n",
    "nfindr_A = torch.tensor(FCLS['A_NFINDR'].T)\n",
    "vca_A = torch.tensor(FCLS['A_VCA'].T)\n",
    "# dataframe which contains the RMSE\n",
    "# Saving metrics\n",
    "import pandas as pd\n",
    "lmm_df = pd.DataFrame(columns=['Method', 'RMSE_X', 'RMSE_A', 'SAD_M'])\n",
    "lmm_df['Method'] = ['LMM+NFINDR', 'LMM+VCA']\n",
    "lmm_df['RMSE_X'] = [rmse(X_true, nfindr_reconstruct, dim=None).numpy(), rmse(X_true, vca_reconstruct, dim=None).numpy()]\n",
    "lmm_df['RMSE_A'] = [rmse(dataset.A, nfindr_A, dim=None).numpy(), rmse(dataset.A, vca_A, dim=None).numpy()]\n",
    "lmm_df['SAD_M'] = [sad_nfindr, sad_vca]\n",
    "lmm_df"
   ]
  },
  {
   "cell_type": "code",
   "execution_count": null,
   "metadata": {},
   "outputs": [],
   "source": [
    "dataset.n_col"
   ]
  },
  {
   "cell_type": "code",
   "execution_count": null,
   "metadata": {},
   "outputs": [],
   "source": [
    "A = FCLS['A_NFINDR'].T.reshape(dataset.n_row,dataset.n_col,-1,order='C')\n",
    "fig = show_abundance(A[:, :, nfindr_idx])\n",
    "plt.show(fig)\n",
    "fig.savefig(os.path.join(save_dir, 'A_NFINDR.png'), dpi=300, bbox_inches='tight')\n",
    "\n",
    "A = FCLS['A_VCA'].T.reshape(dataset.n_row,dataset.n_col,-1,order='C')\n",
    "fig = show_abundance(A[:, :, vca_idx])\n",
    "plt.show(fig)\n",
    "fig.savefig(os.path.join(save_dir, 'A_VCA.png'), dpi=300, bbox_inches='tight')"
   ]
  },
  {
   "attachments": {},
   "cell_type": "markdown",
   "metadata": {},
   "source": [
    "# ELMM"
   ]
  },
  {
   "cell_type": "code",
   "execution_count": null,
   "metadata": {},
   "outputs": [],
   "source": [
    "ELMM = sio.loadmat(os.path.join(result_path, 'ELMM.mat'))\n",
    "save_dir = os.path.join(result_path, 'imgs/ELMM')\n",
    "\n",
    "from HySpecLab.metrics import rmse\n",
    "nfindr_reconstruct = torch.tensor(ELMM['Xhat_NFINDR'].T)\n",
    "vca_reconstruct = torch.tensor(ELMM['Xhat_VCA'].T)\n",
    "nfindr_A = torch.tensor(ELMM['A_NFINDR'].T)\n",
    "vca_A = torch.tensor(ELMM['A_VCA'].T)\n",
    "\n",
    "import pandas as pd\n",
    "elmm_df = pd.DataFrame(columns=['Method', 'RMSE_X', 'RMSE_A', 'SAD_M'])\n",
    "elmm_df['Method'] = ['ELMM+NFINDR', 'ELMM+VCA']\n",
    "elmm_df['RMSE_X'] = [rmse(X_true, nfindr_reconstruct, dim=None).numpy(), rmse(X_true, vca_reconstruct, dim=None).numpy()]\n",
    "elmm_df['RMSE_A'] = [rmse(dataset.A, nfindr_A, dim=None).numpy(), rmse(dataset.A, vca_A, dim=None).numpy()]\n",
    "elmm_df['SAD_M'] = [sad_nfindr, sad_vca]\n",
    "\n",
    "elmm_df"
   ]
  },
  {
   "cell_type": "code",
   "execution_count": null,
   "metadata": {},
   "outputs": [],
   "source": [
    "from utils import show_abundance\n",
    "A = ELMM['A_NFINDR'].T.reshape(dataset.n_row, dataset.n_col, -1,order='C')\n",
    "fig = show_abundance(np.abs(A[:, :, nfindr_idx]))\n",
    "plt.show(fig)\n",
    "fig.savefig(os.path.join(save_dir, 'A_NFINDR.png'), dpi=300, bbox_inches='tight')\n",
    "\n",
    "A = ELMM['A_VCA'].T.reshape(dataset.n_row, dataset.n_col,-1,order='C')\n",
    "fig = show_abundance(np.abs(A[:, :, vca_idx]))\n",
    "plt.show(fig)\n",
    "fig.savefig(os.path.join(save_dir, 'A_VCA.png'), dpi=300, bbox_inches='tight')"
   ]
  },
  {
   "attachments": {},
   "cell_type": "markdown",
   "metadata": {},
   "source": [
    "# Save Dataframe"
   ]
  },
  {
   "cell_type": "code",
   "execution_count": null,
   "metadata": {},
   "outputs": [],
   "source": [
    "df = pd.concat([lmm_df, elmm_df])\n",
    "df.to_csv(os.path.join(result_path, 'metrics.csv'), index=False)\n",
    "df"
   ]
  }
 ],
 "metadata": {
  "kernelspec": {
   "display_name": "CLHU",
   "language": "python",
   "name": "python3"
  },
  "language_info": {
   "codemirror_mode": {
    "name": "ipython",
    "version": 3
   },
   "file_extension": ".py",
   "mimetype": "text/x-python",
   "name": "python",
   "nbconvert_exporter": "python",
   "pygments_lexer": "ipython3",
   "version": "3.10.10"
  },
  "orig_nbformat": 4
 },
 "nbformat": 4,
 "nbformat_minor": 2
}
