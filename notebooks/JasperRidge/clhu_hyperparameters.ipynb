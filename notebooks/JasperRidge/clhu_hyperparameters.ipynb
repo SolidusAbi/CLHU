{
 "cells": [
  {
   "cell_type": "code",
   "execution_count": null,
   "metadata": {},
   "outputs": [],
   "source": [
    "import os, sys\n",
    "project_root_dir = os.path.join(os.getcwd(),'../..')\n",
    "if project_root_dir not in sys.path:\n",
    "    sys.path.append(project_root_dir)\n",
    "\n",
    "from matplotlib import pyplot as plt\n",
    "import numpy as np\n",
    "from torch import nn\n",
    "import torch\n",
    "import config\n",
    "\n",
    "from utils import show_abundance, plot_endmembers\n",
    "# from dataset import JasperRidgeDataset\n",
    "from HySpecLab.metrics import rmse, sad\n",
    "from scipy import io as sio"
   ]
  },
  {
   "cell_type": "code",
   "execution_count": null,
   "metadata": {},
   "outputs": [],
   "source": [
    "from dataset import JasperRidge\n",
    "\n",
    "dataset = JasperRidge(config.JasperRidge_PATH)\n",
    "dataset_name = 'JasperRidge'\n",
    "wv = np.array(dataset.wv, dtype=np.uint)\n",
    "\n",
    "result_path = os.path.join(config.RESULTS_PATH, 'jasperRidge')"
   ]
  },
  {
   "attachments": {},
   "cell_type": "markdown",
   "metadata": {},
   "source": [
    "# Ground Truth"
   ]
  },
  {
   "cell_type": "code",
   "execution_count": null,
   "metadata": {},
   "outputs": [],
   "source": [
    "from utils import plot_endmembers, show_abundance\n",
    "fig = plot_endmembers(dataset.endmembers(), wv, ticks_range=(0, 1), n_ticks=5)\n",
    "plt.show(fig)\n",
    "# fig.savefig(os.path.join(result_path, 'imgs/M_ref.pdf'), bbox_inches='tight')\n",
    "\n",
    "fig = show_abundance(dataset.abundance())\n",
    "plt.show(fig)\n",
    "# fig.savefig(os.path.join(result_path, 'imgs/A_ref.png'), dpi=300, bbox_inches='tight')"
   ]
  },
  {
   "cell_type": "code",
   "execution_count": null,
   "metadata": {},
   "outputs": [],
   "source": [
    "from HySpecLab.metrics import sad\n",
    "\n",
    "def sort_endmember(endmembers, gt):\n",
    "    sad_result = sad(endmembers, gt)\n",
    "    e_idx = torch.argmin(sad_result, dim=0) # Index for reordering the ground truth\n",
    "    return e_idx, sad_result"
   ]
  },
  {
   "cell_type": "code",
   "execution_count": null,
   "metadata": {},
   "outputs": [],
   "source": [
    "from HySpecLab.eea import VCA\n",
    "\n",
    "n_endmembers = dataset.n_endmembers\n",
    "   \n",
    "vca = VCA(n_endmembers, snr_input=-1, random_state=25)\n",
    "vca.fit(dataset.X.numpy())\n",
    "endmembers = torch.from_numpy(vca.endmembers()).float()\n",
    "e_idx, sad_result = sort_endmember(endmembers, dataset.endmembers())\n",
    "\n",
    "vca_endmember_init = endmembers[e_idx]\n",
    "vca_logit_endmember_init = torch.log((vca_endmember_init + 1e-12) / ((1-vca_endmember_init) + 1e-12))\n",
    "\n",
    "fig = plot_endmembers(vca_endmember_init, wv, ticks_range=(0, 1))\n",
    "plt.show(fig)\n",
    "\n",
    "# fig.savefig(os.path.join(result_path, 'imgs/M_vca.pdf'), bbox_inches='tight')"
   ]
  },
  {
   "cell_type": "code",
   "execution_count": null,
   "metadata": {},
   "outputs": [],
   "source": [
    "from utils import plot_endmembers\n",
    "from pysptools import eea\n",
    "n_endmembers = dataset.n_endmembers\n",
    "\n",
    "ee = eea.NFINDR()\n",
    "endmember = torch.from_numpy(ee.extract(dataset.image(), n_endmembers)).float()\n",
    "\n",
    "e_idx, _ = sort_endmember(endmember, dataset.endmembers())\n",
    "nfindr_endmember_init = endmember[e_idx]\n",
    "nfindr_logit_endmember_init = torch.log((nfindr_endmember_init + 1e-12) / ((1-vca_endmember_init) + 1e-12))\n",
    "\n",
    "fig = plot_endmembers(nfindr_endmember_init, wv, ticks_range=(0, 1))\n",
    "plt.show(fig)\n",
    "# fig.savefig(os.path.join(result_path, 'imgs/M_nfindr.pdf'), bbox_inches='tight')"
   ]
  },
  {
   "cell_type": "code",
   "execution_count": null,
   "metadata": {},
   "outputs": [],
   "source": [
    "fig = plot_endmembers(dataset.endmembers() / dataset.endmembers().max(), wv, ticks_range=(0, 1), endmember_estimation=[nfindr_endmember_init, vca_endmember_init], ee_labels=['Ground Truth', 'N-FINDR', 'VCA'])\n",
    "plt.show(fig)\n",
    "# fig.savefig(os.path.join(result_path, 'imgs/M_estimation.pdf'), bbox_inches='tight')"
   ]
  },
  {
   "cell_type": "code",
   "execution_count": null,
   "metadata": {},
   "outputs": [],
   "source": [
    "# endmember_init_method = 'nfindr'\n",
    "# endmember_init = nfindr_endmember_init\n",
    "# logit_endmember_init = nfindr_logit_endmember_init\n",
    "\n",
    "endmember_init_method = 'vca'\n",
    "endmember_init = vca_endmember_init\n",
    "logit_endmember_init = vca_logit_endmember_init"
   ]
  },
  {
   "cell_type": "code",
   "execution_count": null,
   "metadata": {},
   "outputs": [],
   "source": [
    "param_grid = {\n",
    "    'sigma_sparsity': [.05, .1, .25, .5],\n",
    "    'sparse_weight': [0, .05, .1, .25, .5, 1],\n",
    "}"
   ]
  },
  {
   "cell_type": "code",
   "execution_count": null,
   "metadata": {},
   "outputs": [],
   "source": [
    "from torch import sigmoid\n",
    "def test(model, dataset):\n",
    "    X = dataset.X\n",
    "    model.eval()\n",
    "    model = model.cpu()\n",
    "    \n",
    "    X_true = dataset.A @ dataset.endmembers()\n",
    "    with torch.no_grad():\n",
    "        X_hat = model(dataset.X)\n",
    "        A_hat = torch.softmax(model.A, dim=1)\n",
    "        M_hat = sigmoid(model.ebk) \n",
    "    \n",
    "    rmse_x = rmse(X_true, X_hat, dim=None).numpy()      \n",
    "    rmse_a = rmse(dataset.A, A_hat, dim=None).numpy()\n",
    "    sad_m = np.diagonal(sad(M_hat, dataset.endmembers()).numpy()).mean()\n",
    "    return rmse_x.item(), rmse_a.item(), sad_m"
   ]
  },
  {
   "cell_type": "code",
   "execution_count": null,
   "metadata": {},
   "outputs": [],
   "source": [
    "from sklearn.model_selection import ParameterGrid\n",
    "from utils import train \n",
    "from HySpecLab.unmixing import ContrastiveUnmixing\n",
    "import pandas as pd\n",
    "from tqdm import tqdm\n",
    "\n",
    "n_bands = dataset.n_bands\n",
    "results = pd.DataFrame(columns=['sigma_sparsity', 'sparse_weight', 'mean_rmse_x', 'mean_rmse_a', 'mean_sad_m'])\n",
    "for params in ParameterGrid(param_grid):\n",
    "    sigma = params['sigma_sparsity']\n",
    "    sparse_weight = params['sparse_weight']\n",
    "    batch_rmse_x, batch_rmse_a, batch_sad_m = [], [], []\n",
    "\n",
    "    for i in tqdm(range(5)):\n",
    "        model = ContrastiveUnmixing(n_bands, n_endmembers, endmember_init=logit_endmember_init, sigma_sparsity=sigma)\n",
    "        train(model, n_endmembers, dataset, n_batchs=50, n_epochs=100, lr=1e-3, similarity_weight=1, sparse_weight=sparse_weight)\n",
    "        rmse_x, rmse_a, sad_m = test(model, dataset)\n",
    "        batch_rmse_x.append(rmse_x)\n",
    "        batch_rmse_a.append(rmse_a)\n",
    "        batch_sad_m.append(sad_m)\n",
    "\n",
    "    mean_rmse_x = sum(batch_rmse_x) / len(batch_rmse_x)\n",
    "    mean_rmse_a = sum(batch_rmse_a) / len(batch_rmse_a)\n",
    "    mean_sad_m = sum(batch_sad_m) / len(batch_sad_m)\n",
    "    \n",
    "    results = results.append({'sigma_sparsity': sigma, 'sparse_weight': sparse_weight, 'mean_rmse_x': mean_rmse_x, 'mean_rmse_a': mean_rmse_a, 'mean_sad_m': mean_sad_m}, ignore_index=True)"
   ]
  },
  {
   "cell_type": "code",
   "execution_count": null,
   "metadata": {},
   "outputs": [],
   "source": [
    "csv_save_path = os.path.join(result_path, 'hyperparameters.csv')\n",
    "results.to_csv(csv_save_path, index=False)"
   ]
  },
  {
   "cell_type": "markdown",
   "metadata": {},
   "source": [
    "# Apex"
   ]
  },
  {
   "cell_type": "code",
   "execution_count": null,
   "metadata": {},
   "outputs": [],
   "source": [
    "from dataset import Apex\n",
    "dataset = Apex(config.Apex_PATH)\n",
    "\n",
    "result_path = os.path.join(config.RESULTS_PATH, 'apex')"
   ]
  },
  {
   "cell_type": "code",
   "execution_count": null,
   "metadata": {},
   "outputs": [],
   "source": [
    "\n",
    "fig = plot_endmembers(dataset.endmembers(), np.array(dataset.wv), ticks_range=(0, .5), n_ticks=5)\n",
    "plt.show(fig)\n",
    "# fig.savefig(os.path.join(result_path, 'imgs/M_ref.pdf'), bbox_inches='tight')\n",
    "\n",
    "fig = show_abundance(dataset.abundance())\n",
    "plt.show(fig)\n"
   ]
  },
  {
   "cell_type": "code",
   "execution_count": null,
   "metadata": {},
   "outputs": [],
   "source": [
    "from HySpecLab.eea import VCA\n",
    "\n",
    "n_endmembers = dataset.n_endmembers\n",
    "   \n",
    "vca = VCA(n_endmembers, snr_input=20, random_state=42)\n",
    "vca.fit(dataset.X.numpy())\n",
    "endmembers = torch.from_numpy(vca.endmembers()).float()\n",
    "e_idx, sad_result = sort_endmember(endmembers, dataset.endmembers())\n",
    "\n",
    "vca_endmember_init = endmembers[e_idx]\n",
    "vca_logit_endmember_init = torch.log((vca_endmember_init + 1e-12) / ((1-vca_endmember_init) + 1e-12))\n",
    "\n",
    "fig = plot_endmembers(vca_endmember_init, dataset.wv, ticks_range=(0, 1))\n",
    "plt.show(fig)\n",
    "\n",
    "endmember_init_method = 'vca'\n",
    "endmember_init = vca_endmember_init\n",
    "logit_endmember_init = vca_logit_endmember_init"
   ]
  },
  {
   "cell_type": "code",
   "execution_count": null,
   "metadata": {},
   "outputs": [],
   "source": [
    "from sklearn.model_selection import ParameterGrid\n",
    "from utils import train \n",
    "from HySpecLab.unmixing import ContrastiveUnmixing\n",
    "import pandas as pd\n",
    "from tqdm import tqdm\n",
    "\n",
    "n_bands = dataset.n_bands\n",
    "results = pd.DataFrame(columns=['sigma_sparsity', 'sparse_weight', 'mean_rmse_x', 'mean_rmse_a', 'mean_sad_m'])\n",
    "for params in ParameterGrid(param_grid):\n",
    "    sigma = params['sigma_sparsity']\n",
    "    sparse_weight = params['sparse_weight']\n",
    "    print('Sigma:', sigma, 'Sparse Weight:', sparse_weight)\n",
    "    batch_rmse_x, batch_rmse_a, batch_sad_m = [], [], []\n",
    "\n",
    "    for i in tqdm(range(5)):\n",
    "        model = ContrastiveUnmixing(n_bands, n_endmembers, endmember_init=logit_endmember_init, sigma_sparsity=sigma)\n",
    "        train(model, n_endmembers, dataset, n_batchs=50, n_epochs=100, lr=1e-3, similarity_weight=1, sparse_weight=sparse_weight)\n",
    "        rmse_x, rmse_a, sad_m = test(model, dataset)\n",
    "        batch_rmse_x.append(rmse_x)\n",
    "        batch_rmse_a.append(rmse_a)\n",
    "        batch_sad_m.append(sad_m)\n",
    "\n",
    "    mean_rmse_x = sum(batch_rmse_x) / len(batch_rmse_x)\n",
    "    mean_rmse_a = sum(batch_rmse_a) / len(batch_rmse_a)\n",
    "    mean_sad_m = sum(batch_sad_m) / len(batch_sad_m)\n",
    "    \n",
    "    results = results.append({'sigma_sparsity': sigma, 'sparse_weight': sparse_weight, 'mean_rmse_x': mean_rmse_x, 'mean_rmse_a': mean_rmse_a, 'mean_sad_m': mean_sad_m}, ignore_index=True)\n",
    "    print('Mean RMSE X:', mean_rmse_x, 'Mean RMSE A:', mean_rmse_a, 'Mean SAD M:', mean_sad_m)"
   ]
  },
  {
   "cell_type": "code",
   "execution_count": null,
   "metadata": {},
   "outputs": [],
   "source": [
    "results"
   ]
  },
  {
   "cell_type": "code",
   "execution_count": null,
   "metadata": {},
   "outputs": [],
   "source": [
    "csv_save_path = os.path.join(result_path, 'hyperparameters.csv')\n",
    "results.to_csv(csv_save_path, index=False)"
   ]
  },
  {
   "cell_type": "markdown",
   "metadata": {},
   "source": [
    "# Samson"
   ]
  },
  {
   "cell_type": "code",
   "execution_count": null,
   "metadata": {},
   "outputs": [],
   "source": [
    "from dataset import Samson\n",
    "\n",
    "dataset = Samson(config.Samson_PATH)\n",
    "result_path = os.path.join(config.RESULTS_PATH, 'samson')"
   ]
  },
  {
   "cell_type": "code",
   "execution_count": 25,
   "metadata": {},
   "outputs": [
    {
     "data": {
      "image/png": "[encoded data removed]",
      "text/plain": [
       "<Figure size 700x500 with 1 Axes>"
      ]
     },
     "metadata": {},
     "output_type": "display_data"
    },
    {
     "data": {
      "image/png": "[encoded data removed]",
      "text/plain": [
       "<Figure size 700x500 with 6 Axes>"
      ]
     },
     "metadata": {},
     "output_type": "display_data"
    }
   ],
   "source": [
    "fig = plot_endmembers(dataset.endmembers(), np.array(dataset.wv), ticks_range=(0, .5), n_ticks=5)\n",
    "plt.show(fig)\n",
    "\n",
    "fig = show_abundance(dataset.abundance())\n",
    "plt.show(fig)"
   ]
  },
  {
   "cell_type": "code",
   "execution_count": 26,
   "metadata": {},
   "outputs": [
    {
     "data": {
      "image/png": "[encoded data removed]",
      "text/plain": [
       "<Figure size 700x500 with 1 Axes>"
      ]
     },
     "metadata": {},
     "output_type": "display_data"
    }
   ],
   "source": [
    "from HySpecLab.eea import VCA\n",
    "\n",
    "n_endmembers = dataset.n_endmembers\n",
    "   \n",
    "vca = VCA(n_endmembers, snr_input=20, random_state=42)\n",
    "vca.fit(dataset.X.numpy())\n",
    "endmembers = torch.from_numpy(vca.endmembers()).float()\n",
    "e_idx, sad_result = sort_endmember(endmembers, dataset.endmembers())\n",
    "\n",
    "vca_endmember_init = endmembers[e_idx]\n",
    "vca_logit_endmember_init = torch.log((vca_endmember_init + 1e-12) / ((1-vca_endmember_init) + 1e-12))\n",
    "\n",
    "fig = plot_endmembers(vca_endmember_init, dataset.wv, ticks_range=(0, 1))\n",
    "plt.show(fig)\n",
    "\n",
    "endmember_init_method = 'vca'\n",
    "endmember_init = vca_endmember_init\n",
    "logit_endmember_init = vca_logit_endmember_init"
   ]
  },
  {
   "cell_type": "code",
   "execution_count": 27,
   "metadata": {},
   "outputs": [
    {
     "name": "stdout",
     "output_type": "stream",
     "text": [
      "Sigma: 0.05 Sparse Weight: 0\n"
     ]
    },
    {
     "name": "stderr",
     "output_type": "stream",
     "text": [
      "100%|██████████| 100/100 [00:43<00:00,  2.30epoch/s, tls=0.0219]\n",
      "100%|██████████| 100/100 [00:43<00:00,  2.28epoch/s, tls=0.0224]\n",
      "100%|██████████| 100/100 [00:42<00:00,  2.36epoch/s, tls=0.0215]\n",
      "100%|██████████| 100/100 [00:44<00:00,  2.26epoch/s, tls=0.0228]\n",
      "100%|██████████| 100/100 [00:40<00:00,  2.45epoch/s, tls=0.0222]\n",
      "100%|██████████| 5/5 [03:35<00:00, 43.00s/it]\n",
      "/tmp/ipykernel_5558/1847138408.py:27: FutureWarning: The frame.append method is deprecated and will be removed from pandas in a future version. Use pandas.concat instead.\n",
      "  results = results.append({'sigma_sparsity': sigma, 'sparse_weight': sparse_weight, 'mean_rmse_x': mean_rmse_x, 'mean_rmse_a': mean_rmse_a, 'mean_sad_m': mean_sad_m}, ignore_index=True)\n"
     ]
    },
    {
     "name": "stdout",
     "output_type": "stream",
     "text": [
      "Mean RMSE X: 0.01980752870440483 Mean RMSE A: 0.22842772901058198 Mean SAD M: 0.2001954585313797\n",
      "Sigma: 0.05 Sparse Weight: 0.05\n"
     ]
    },
    {
     "name": "stderr",
     "output_type": "stream",
     "text": [
      "100%|██████████| 100/100 [00:42<00:00,  2.37epoch/s, tls=0.0628]\n",
      "100%|██████████| 100/100 [00:41<00:00,  2.43epoch/s, tls=0.0612]\n",
      "100%|██████████| 100/100 [00:40<00:00,  2.47epoch/s, tls=0.0613]\n",
      "100%|██████████| 100/100 [00:42<00:00,  2.36epoch/s, tls=0.0625]\n",
      "100%|██████████| 100/100 [00:39<00:00,  2.52epoch/s, tls=0.0615]\n",
      "100%|██████████| 5/5 [03:26<00:00, 41.23s/it]\n",
      "/tmp/ipykernel_5558/1847138408.py:27: FutureWarning: The frame.append method is deprecated and will be removed from pandas in a future version. Use pandas.concat instead.\n",
      "  results = results.append({'sigma_sparsity': sigma, 'sparse_weight': sparse_weight, 'mean_rmse_x': mean_rmse_x, 'mean_rmse_a': mean_rmse_a, 'mean_sad_m': mean_sad_m}, ignore_index=True)\n"
     ]
    },
    {
     "name": "stdout",
     "output_type": "stream",
     "text": [
      "Mean RMSE X: 0.02085067518055439 Mean RMSE A: 0.22949598133563995 Mean SAD M: 0.17438217699527742\n",
      "Sigma: 0.05 Sparse Weight: 0.1\n"
     ]
    },
    {
     "name": "stderr",
     "output_type": "stream",
     "text": [
      "100%|██████████| 100/100 [00:41<00:00,  2.41epoch/s, tls=0.0965]\n",
      "100%|██████████| 100/100 [00:43<00:00,  2.31epoch/s, tls=0.0984]\n",
      "100%|██████████| 100/100 [00:41<00:00,  2.42epoch/s, tls=0.0999]\n",
      "100%|██████████| 100/100 [00:43<00:00,  2.29epoch/s, tls=0.1012]\n",
      "100%|██████████| 100/100 [00:44<00:00,  2.27epoch/s, tls=0.0978]\n",
      "100%|██████████| 5/5 [03:33<00:00, 42.79s/it]\n",
      "/tmp/ipykernel_5558/1847138408.py:27: FutureWarning: The frame.append method is deprecated and will be removed from pandas in a future version. Use pandas.concat instead.\n",
      "  results = results.append({'sigma_sparsity': sigma, 'sparse_weight': sparse_weight, 'mean_rmse_x': mean_rmse_x, 'mean_rmse_a': mean_rmse_a, 'mean_sad_m': mean_sad_m}, ignore_index=True)\n"
     ]
    },
    {
     "name": "stdout",
     "output_type": "stream",
     "text": [
      "Mean RMSE X: 0.020367790013551712 Mean RMSE A: 0.22977578938007354 Mean SAD M: 0.17169528603553771\n",
      "Sigma: 0.05 Sparse Weight: 0.25\n"
     ]
    },
    {
     "name": "stderr",
     "output_type": "stream",
     "text": [
      "100%|██████████| 100/100 [00:42<00:00,  2.36epoch/s, tls=0.1977]\n",
      "100%|██████████| 100/100 [00:42<00:00,  2.36epoch/s, tls=0.1970]\n",
      "100%|██████████| 100/100 [00:42<00:00,  2.36epoch/s, tls=0.1983]\n",
      "100%|██████████| 100/100 [00:42<00:00,  2.37epoch/s, tls=0.1965]\n",
      "100%|██████████| 100/100 [00:42<00:00,  2.38epoch/s, tls=0.1984]\n",
      "100%|██████████| 5/5 [03:31<00:00, 42.31s/it]\n",
      "/tmp/ipykernel_5558/1847138408.py:27: FutureWarning: The frame.append method is deprecated and will be removed from pandas in a future version. Use pandas.concat instead.\n",
      "  results = results.append({'sigma_sparsity': sigma, 'sparse_weight': sparse_weight, 'mean_rmse_x': mean_rmse_x, 'mean_rmse_a': mean_rmse_a, 'mean_sad_m': mean_sad_m}, ignore_index=True)\n"
     ]
    },
    {
     "name": "stdout",
     "output_type": "stream",
     "text": [
      "Mean RMSE X: 0.02002881057560444 Mean RMSE A: 0.2232471376657486 Mean SAD M: 0.1568006157875061\n",
      "Sigma: 0.05 Sparse Weight: 0.5\n"
     ]
    },
    {
     "name": "stderr",
     "output_type": "stream",
     "text": [
      "100%|██████████| 100/100 [00:42<00:00,  2.35epoch/s, tls=0.3312]\n",
      "100%|██████████| 100/100 [00:44<00:00,  2.26epoch/s, tls=0.3309]\n",
      "100%|██████████| 100/100 [00:43<00:00,  2.31epoch/s, tls=0.3387]\n",
      "100%|██████████| 100/100 [00:41<00:00,  2.41epoch/s, tls=0.3356]\n",
      "100%|██████████| 100/100 [00:43<00:00,  2.31epoch/s, tls=0.3335]\n",
      "100%|██████████| 5/5 [03:35<00:00, 43.03s/it]\n",
      "/tmp/ipykernel_5558/1847138408.py:27: FutureWarning: The frame.append method is deprecated and will be removed from pandas in a future version. Use pandas.concat instead.\n",
      "  results = results.append({'sigma_sparsity': sigma, 'sparse_weight': sparse_weight, 'mean_rmse_x': mean_rmse_x, 'mean_rmse_a': mean_rmse_a, 'mean_sad_m': mean_sad_m}, ignore_index=True)\n"
     ]
    },
    {
     "name": "stdout",
     "output_type": "stream",
     "text": [
      "Mean RMSE X: 0.030671438202261925 Mean RMSE A: 0.2330733835697174 Mean SAD M: 0.15688731372356415\n",
      "Sigma: 0.05 Sparse Weight: 1\n"
     ]
    },
    {
     "name": "stderr",
     "output_type": "stream",
     "text": [
      "100%|██████████| 100/100 [00:41<00:00,  2.41epoch/s, tls=0.3293]\n",
      "100%|██████████| 100/100 [00:42<00:00,  2.35epoch/s, tls=0.3410]\n",
      "100%|██████████| 100/100 [00:42<00:00,  2.38epoch/s, tls=2.0756]\n",
      "100%|██████████| 100/100 [00:40<00:00,  2.46epoch/s, tls=0.3417]\n",
      "100%|██████████| 100/100 [00:41<00:00,  2.42epoch/s, tls=1.6662]\n",
      "100%|██████████| 5/5 [03:28<00:00, 41.69s/it]\n",
      "/tmp/ipykernel_5558/1847138408.py:27: FutureWarning: The frame.append method is deprecated and will be removed from pandas in a future version. Use pandas.concat instead.\n",
      "  results = results.append({'sigma_sparsity': sigma, 'sparse_weight': sparse_weight, 'mean_rmse_x': mean_rmse_x, 'mean_rmse_a': mean_rmse_a, 'mean_sad_m': mean_sad_m}, ignore_index=True)\n"
     ]
    },
    {
     "name": "stdout",
     "output_type": "stream",
     "text": [
      "Mean RMSE X: 0.09841077253222466 Mean RMSE A: 0.4453322172164917 Mean SAD M: 0.23184288740158082\n",
      "Sigma: 0.1 Sparse Weight: 0\n"
     ]
    },
    {
     "name": "stderr",
     "output_type": "stream",
     "text": [
      "100%|██████████| 100/100 [00:41<00:00,  2.43epoch/s, tls=0.0245]\n",
      "100%|██████████| 100/100 [00:37<00:00,  2.68epoch/s, tls=0.0243]\n",
      "100%|██████████| 100/100 [00:41<00:00,  2.38epoch/s, tls=0.0267]\n",
      "100%|██████████| 100/100 [00:42<00:00,  2.37epoch/s, tls=0.0262]\n",
      "100%|██████████| 100/100 [00:41<00:00,  2.42epoch/s, tls=0.0243]\n",
      "100%|██████████| 5/5 [03:24<00:00, 40.81s/it]\n",
      "/tmp/ipykernel_5558/1847138408.py:27: FutureWarning: The frame.append method is deprecated and will be removed from pandas in a future version. Use pandas.concat instead.\n",
      "  results = results.append({'sigma_sparsity': sigma, 'sparse_weight': sparse_weight, 'mean_rmse_x': mean_rmse_x, 'mean_rmse_a': mean_rmse_a, 'mean_sad_m': mean_sad_m}, ignore_index=True)\n"
     ]
    },
    {
     "name": "stdout",
     "output_type": "stream",
     "text": [
      "Mean RMSE X: 0.020124757662415504 Mean RMSE A: 0.22721349000930785 Mean SAD M: 0.17245164513587952\n",
      "Sigma: 0.1 Sparse Weight: 0.05\n"
     ]
    },
    {
     "name": "stderr",
     "output_type": "stream",
     "text": [
      "100%|██████████| 100/100 [00:40<00:00,  2.45epoch/s, tls=0.0682]\n",
      "100%|██████████| 100/100 [00:38<00:00,  2.60epoch/s, tls=0.0636]\n",
      "100%|██████████| 100/100 [00:42<00:00,  2.35epoch/s, tls=0.0627]\n",
      "100%|██████████| 100/100 [00:41<00:00,  2.42epoch/s, tls=0.0625]\n",
      "100%|██████████| 100/100 [00:41<00:00,  2.43epoch/s, tls=0.0639]\n",
      "100%|██████████| 5/5 [03:24<00:00, 40.93s/it]\n",
      "/tmp/ipykernel_5558/1847138408.py:27: FutureWarning: The frame.append method is deprecated and will be removed from pandas in a future version. Use pandas.concat instead.\n",
      "  results = results.append({'sigma_sparsity': sigma, 'sparse_weight': sparse_weight, 'mean_rmse_x': mean_rmse_x, 'mean_rmse_a': mean_rmse_a, 'mean_sad_m': mean_sad_m}, ignore_index=True)\n"
     ]
    },
    {
     "name": "stdout",
     "output_type": "stream",
     "text": [
      "Mean RMSE X: 0.020139611884951593 Mean RMSE A: 0.22975710332393645 Mean SAD M: 0.1713077425956726\n",
      "Sigma: 0.1 Sparse Weight: 0.1\n"
     ]
    },
    {
     "name": "stderr",
     "output_type": "stream",
     "text": [
      "100%|██████████| 100/100 [00:41<00:00,  2.43epoch/s, tls=0.1002]\n",
      "100%|██████████| 100/100 [00:42<00:00,  2.36epoch/s, tls=0.0986]\n",
      "100%|██████████| 100/100 [00:43<00:00,  2.30epoch/s, tls=0.1008]\n",
      "100%|██████████| 100/100 [00:42<00:00,  2.34epoch/s, tls=0.0979]\n",
      "100%|██████████| 100/100 [00:41<00:00,  2.41epoch/s, tls=0.0997]\n",
      "100%|██████████| 5/5 [03:31<00:00, 42.27s/it]\n",
      "/tmp/ipykernel_5558/1847138408.py:27: FutureWarning: The frame.append method is deprecated and will be removed from pandas in a future version. Use pandas.concat instead.\n",
      "  results = results.append({'sigma_sparsity': sigma, 'sparse_weight': sparse_weight, 'mean_rmse_x': mean_rmse_x, 'mean_rmse_a': mean_rmse_a, 'mean_sad_m': mean_sad_m}, ignore_index=True)\n"
     ]
    },
    {
     "name": "stdout",
     "output_type": "stream",
     "text": [
      "Mean RMSE X: 0.021144963428378107 Mean RMSE A: 0.22490660846233368 Mean SAD M: 0.1667461186647415\n",
      "Sigma: 0.1 Sparse Weight: 0.25\n"
     ]
    },
    {
     "name": "stderr",
     "output_type": "stream",
     "text": [
      "100%|██████████| 100/100 [00:43<00:00,  2.28epoch/s, tls=0.1981]\n",
      "100%|██████████| 100/100 [00:42<00:00,  2.33epoch/s, tls=0.2018]\n",
      "100%|██████████| 100/100 [00:42<00:00,  2.38epoch/s, tls=0.1984]\n",
      "100%|██████████| 100/100 [00:44<00:00,  2.25epoch/s, tls=0.2001]\n",
      "100%|██████████| 100/100 [00:42<00:00,  2.33epoch/s, tls=0.2026]\n",
      "100%|██████████| 5/5 [03:36<00:00, 43.30s/it]\n",
      "/tmp/ipykernel_5558/1847138408.py:27: FutureWarning: The frame.append method is deprecated and will be removed from pandas in a future version. Use pandas.concat instead.\n",
      "  results = results.append({'sigma_sparsity': sigma, 'sparse_weight': sparse_weight, 'mean_rmse_x': mean_rmse_x, 'mean_rmse_a': mean_rmse_a, 'mean_sad_m': mean_sad_m}, ignore_index=True)\n"
     ]
    },
    {
     "name": "stdout",
     "output_type": "stream",
     "text": [
      "Mean RMSE X: 0.02052205801010132 Mean RMSE A: 0.22184837460517884 Mean SAD M: 0.1543550580739975\n",
      "Sigma: 0.1 Sparse Weight: 0.5\n"
     ]
    },
    {
     "name": "stderr",
     "output_type": "stream",
     "text": [
      "100%|██████████| 100/100 [00:43<00:00,  2.28epoch/s, tls=0.3305]\n",
      "100%|██████████| 100/100 [00:41<00:00,  2.42epoch/s, tls=0.3338]\n",
      "100%|██████████| 100/100 [00:42<00:00,  2.34epoch/s, tls=0.3295]\n",
      "100%|██████████| 100/100 [00:45<00:00,  2.21epoch/s, tls=0.3371]\n",
      "100%|██████████| 100/100 [00:41<00:00,  2.39epoch/s, tls=0.3313]\n",
      "100%|██████████| 5/5 [03:35<00:00, 43.04s/it]\n",
      "/tmp/ipykernel_5558/1847138408.py:27: FutureWarning: The frame.append method is deprecated and will be removed from pandas in a future version. Use pandas.concat instead.\n",
      "  results = results.append({'sigma_sparsity': sigma, 'sparse_weight': sparse_weight, 'mean_rmse_x': mean_rmse_x, 'mean_rmse_a': mean_rmse_a, 'mean_sad_m': mean_sad_m}, ignore_index=True)\n"
     ]
    },
    {
     "name": "stdout",
     "output_type": "stream",
     "text": [
      "Mean RMSE X: 0.03296933583915233 Mean RMSE A: 0.23280597031116484 Mean SAD M: 0.15226275622844695\n",
      "Sigma: 0.1 Sparse Weight: 1\n"
     ]
    },
    {
     "name": "stderr",
     "output_type": "stream",
     "text": [
      "100%|██████████| 100/100 [00:43<00:00,  2.32epoch/s, tls=0.2837]\n",
      "100%|██████████| 100/100 [00:41<00:00,  2.41epoch/s, tls=0.4460]\n",
      "100%|██████████| 100/100 [00:43<00:00,  2.31epoch/s, tls=0.2898]\n",
      "100%|██████████| 100/100 [00:43<00:00,  2.29epoch/s, tls=0.3080]\n",
      "100%|██████████| 100/100 [00:41<00:00,  2.43epoch/s, tls=0.3428]\n",
      "100%|██████████| 5/5 [03:32<00:00, 42.58s/it]\n",
      "/tmp/ipykernel_5558/1847138408.py:27: FutureWarning: The frame.append method is deprecated and will be removed from pandas in a future version. Use pandas.concat instead.\n",
      "  results = results.append({'sigma_sparsity': sigma, 'sparse_weight': sparse_weight, 'mean_rmse_x': mean_rmse_x, 'mean_rmse_a': mean_rmse_a, 'mean_sad_m': mean_sad_m}, ignore_index=True)\n"
     ]
    },
    {
     "name": "stdout",
     "output_type": "stream",
     "text": [
      "Mean RMSE X: 0.06149939000606537 Mean RMSE A: 0.42331611514091494 Mean SAD M: 0.22545359134674073\n",
      "Sigma: 0.25 Sparse Weight: 0\n"
     ]
    },
    {
     "name": "stderr",
     "output_type": "stream",
     "text": [
      "100%|██████████| 100/100 [00:42<00:00,  2.37epoch/s, tls=0.0353]\n",
      "100%|██████████| 100/100 [00:40<00:00,  2.44epoch/s, tls=0.0365]\n",
      "100%|██████████| 100/100 [00:42<00:00,  2.36epoch/s, tls=0.0366]\n",
      "100%|██████████| 100/100 [00:42<00:00,  2.33epoch/s, tls=0.0353]\n",
      "100%|██████████| 100/100 [00:43<00:00,  2.31epoch/s, tls=0.0407]\n",
      "100%|██████████| 5/5 [03:32<00:00, 42.42s/it]\n",
      "/tmp/ipykernel_5558/1847138408.py:27: FutureWarning: The frame.append method is deprecated and will be removed from pandas in a future version. Use pandas.concat instead.\n",
      "  results = results.append({'sigma_sparsity': sigma, 'sparse_weight': sparse_weight, 'mean_rmse_x': mean_rmse_x, 'mean_rmse_a': mean_rmse_a, 'mean_sad_m': mean_sad_m}, ignore_index=True)\n"
     ]
    },
    {
     "name": "stdout",
     "output_type": "stream",
     "text": [
      "Mean RMSE X: 0.020825615152716637 Mean RMSE A: 0.21860075294971465 Mean SAD M: 0.18178241550922394\n",
      "Sigma: 0.25 Sparse Weight: 0.05\n"
     ]
    },
    {
     "name": "stderr",
     "output_type": "stream",
     "text": [
      "100%|██████████| 100/100 [00:42<00:00,  2.34epoch/s, tls=0.0730]\n",
      "100%|██████████| 100/100 [00:43<00:00,  2.29epoch/s, tls=0.0749]\n",
      "100%|██████████| 100/100 [00:41<00:00,  2.43epoch/s, tls=0.0751]\n",
      "100%|██████████| 100/100 [00:42<00:00,  2.38epoch/s, tls=0.0708]\n",
      "100%|██████████| 100/100 [00:41<00:00,  2.42epoch/s, tls=0.0703]\n",
      "100%|██████████| 5/5 [03:31<00:00, 42.23s/it]\n",
      "/tmp/ipykernel_5558/1847138408.py:27: FutureWarning: The frame.append method is deprecated and will be removed from pandas in a future version. Use pandas.concat instead.\n",
      "  results = results.append({'sigma_sparsity': sigma, 'sparse_weight': sparse_weight, 'mean_rmse_x': mean_rmse_x, 'mean_rmse_a': mean_rmse_a, 'mean_sad_m': mean_sad_m}, ignore_index=True)\n"
     ]
    },
    {
     "name": "stdout",
     "output_type": "stream",
     "text": [
      "Mean RMSE X: 0.01967841647565365 Mean RMSE A: 0.22063231468200684 Mean SAD M: 0.17739999890327454\n",
      "Sigma: 0.25 Sparse Weight: 0.1\n"
     ]
    },
    {
     "name": "stderr",
     "output_type": "stream",
     "text": [
      "100%|██████████| 100/100 [00:42<00:00,  2.33epoch/s, tls=0.1078]\n",
      "100%|██████████| 100/100 [00:40<00:00,  2.44epoch/s, tls=0.1092]\n",
      "100%|██████████| 100/100 [00:41<00:00,  2.39epoch/s, tls=0.1113]\n",
      "100%|██████████| 100/100 [00:41<00:00,  2.43epoch/s, tls=0.1073]\n",
      "100%|██████████| 100/100 [00:41<00:00,  2.40epoch/s, tls=0.1127]\n",
      "100%|██████████| 5/5 [03:28<00:00, 41.74s/it]\n",
      "/tmp/ipykernel_5558/1847138408.py:27: FutureWarning: The frame.append method is deprecated and will be removed from pandas in a future version. Use pandas.concat instead.\n",
      "  results = results.append({'sigma_sparsity': sigma, 'sparse_weight': sparse_weight, 'mean_rmse_x': mean_rmse_x, 'mean_rmse_a': mean_rmse_a, 'mean_sad_m': mean_sad_m}, ignore_index=True)\n"
     ]
    },
    {
     "name": "stdout",
     "output_type": "stream",
     "text": [
      "Mean RMSE X: 0.02018975242972374 Mean RMSE A: 0.218913796544075 Mean SAD M: 0.16960691213607787\n",
      "Sigma: 0.25 Sparse Weight: 0.25\n"
     ]
    },
    {
     "name": "stderr",
     "output_type": "stream",
     "text": [
      "100%|██████████| 100/100 [00:42<00:00,  2.35epoch/s, tls=0.2015]\n",
      "100%|██████████| 100/100 [00:42<00:00,  2.35epoch/s, tls=0.2034]\n",
      "100%|██████████| 100/100 [00:41<00:00,  2.42epoch/s, tls=0.2014]\n",
      "100%|██████████| 100/100 [00:38<00:00,  2.62epoch/s, tls=0.2048]\n",
      "100%|██████████| 100/100 [00:40<00:00,  2.45epoch/s, tls=0.2023]\n",
      "100%|██████████| 5/5 [03:25<00:00, 41.10s/it]\n",
      "/tmp/ipykernel_5558/1847138408.py:27: FutureWarning: The frame.append method is deprecated and will be removed from pandas in a future version. Use pandas.concat instead.\n",
      "  results = results.append({'sigma_sparsity': sigma, 'sparse_weight': sparse_weight, 'mean_rmse_x': mean_rmse_x, 'mean_rmse_a': mean_rmse_a, 'mean_sad_m': mean_sad_m}, ignore_index=True)\n"
     ]
    },
    {
     "name": "stdout",
     "output_type": "stream",
     "text": [
      "Mean RMSE X: 0.02117415554821491 Mean RMSE A: 0.21715954542160035 Mean SAD M: 0.15143170952796936\n",
      "Sigma: 0.25 Sparse Weight: 0.5\n"
     ]
    },
    {
     "name": "stderr",
     "output_type": "stream",
     "text": [
      "100%|██████████| 100/100 [00:39<00:00,  2.50epoch/s, tls=0.3362]\n",
      "100%|██████████| 100/100 [00:39<00:00,  2.52epoch/s, tls=0.3316]\n",
      "100%|██████████| 100/100 [00:42<00:00,  2.34epoch/s, tls=0.3332]\n",
      "100%|██████████| 100/100 [00:41<00:00,  2.41epoch/s, tls=0.3282]\n",
      "100%|██████████| 100/100 [00:41<00:00,  2.44epoch/s, tls=0.3333]\n",
      "100%|██████████| 5/5 [03:25<00:00, 41.03s/it]\n",
      "/tmp/ipykernel_5558/1847138408.py:27: FutureWarning: The frame.append method is deprecated and will be removed from pandas in a future version. Use pandas.concat instead.\n",
      "  results = results.append({'sigma_sparsity': sigma, 'sparse_weight': sparse_weight, 'mean_rmse_x': mean_rmse_x, 'mean_rmse_a': mean_rmse_a, 'mean_sad_m': mean_sad_m}, ignore_index=True)\n"
     ]
    },
    {
     "name": "stdout",
     "output_type": "stream",
     "text": [
      "Mean RMSE X: 0.03120236098766327 Mean RMSE A: 0.22959792017936706 Mean SAD M: 0.1482599437236786\n",
      "Sigma: 0.25 Sparse Weight: 1\n"
     ]
    },
    {
     "name": "stderr",
     "output_type": "stream",
     "text": [
      "100%|██████████| 100/100 [00:41<00:00,  2.43epoch/s, tls=0.4297]\n",
      "100%|██████████| 100/100 [00:39<00:00,  2.55epoch/s, tls=0.3945]\n",
      "100%|██████████| 100/100 [00:40<00:00,  2.46epoch/s, tls=0.3174]\n",
      "100%|██████████| 100/100 [00:43<00:00,  2.32epoch/s, tls=0.4718]\n",
      "100%|██████████| 100/100 [00:42<00:00,  2.33epoch/s, tls=0.4159]\n",
      "100%|██████████| 5/5 [03:27<00:00, 41.44s/it]\n",
      "/tmp/ipykernel_5558/1847138408.py:27: FutureWarning: The frame.append method is deprecated and will be removed from pandas in a future version. Use pandas.concat instead.\n",
      "  results = results.append({'sigma_sparsity': sigma, 'sparse_weight': sparse_weight, 'mean_rmse_x': mean_rmse_x, 'mean_rmse_a': mean_rmse_a, 'mean_sad_m': mean_sad_m}, ignore_index=True)\n"
     ]
    },
    {
     "name": "stdout",
     "output_type": "stream",
     "text": [
      "Mean RMSE X: 0.05775628834962845 Mean RMSE A: 0.348101407289505 Mean SAD M: 0.18053882122039794\n",
      "Sigma: 0.5 Sparse Weight: 0\n"
     ]
    },
    {
     "name": "stderr",
     "output_type": "stream",
     "text": [
      "100%|██████████| 100/100 [00:43<00:00,  2.29epoch/s, tls=0.0944]\n",
      "100%|██████████| 100/100 [00:42<00:00,  2.33epoch/s, tls=0.1012]\n",
      "100%|██████████| 100/100 [00:42<00:00,  2.34epoch/s, tls=0.0967]\n",
      "100%|██████████| 100/100 [00:42<00:00,  2.35epoch/s, tls=0.0943]\n",
      "100%|██████████| 100/100 [00:41<00:00,  2.40epoch/s, tls=0.0984]\n",
      "100%|██████████| 5/5 [03:33<00:00, 42.77s/it]\n",
      "/tmp/ipykernel_5558/1847138408.py:27: FutureWarning: The frame.append method is deprecated and will be removed from pandas in a future version. Use pandas.concat instead.\n",
      "  results = results.append({'sigma_sparsity': sigma, 'sparse_weight': sparse_weight, 'mean_rmse_x': mean_rmse_x, 'mean_rmse_a': mean_rmse_a, 'mean_sad_m': mean_sad_m}, ignore_index=True)\n"
     ]
    },
    {
     "name": "stdout",
     "output_type": "stream",
     "text": [
      "Mean RMSE X: 0.018524231016635896 Mean RMSE A: 0.20264507532119752 Mean SAD M: 0.178451606631279\n",
      "Sigma: 0.5 Sparse Weight: 0.05\n"
     ]
    },
    {
     "name": "stderr",
     "output_type": "stream",
     "text": [
      "100%|██████████| 100/100 [00:40<00:00,  2.47epoch/s, tls=0.1208]\n",
      "100%|██████████| 100/100 [00:42<00:00,  2.37epoch/s, tls=0.1274]\n",
      "100%|██████████| 100/100 [00:41<00:00,  2.44epoch/s, tls=0.1253]\n",
      "100%|██████████| 100/100 [00:40<00:00,  2.47epoch/s, tls=0.1400]\n",
      "100%|██████████| 100/100 [00:39<00:00,  2.50epoch/s, tls=0.1249]\n",
      "100%|██████████| 5/5 [03:24<00:00, 40.91s/it]\n",
      "/tmp/ipykernel_5558/1847138408.py:27: FutureWarning: The frame.append method is deprecated and will be removed from pandas in a future version. Use pandas.concat instead.\n",
      "  results = results.append({'sigma_sparsity': sigma, 'sparse_weight': sparse_weight, 'mean_rmse_x': mean_rmse_x, 'mean_rmse_a': mean_rmse_a, 'mean_sad_m': mean_sad_m}, ignore_index=True)\n"
     ]
    },
    {
     "name": "stdout",
     "output_type": "stream",
     "text": [
      "Mean RMSE X: 0.01859772428870201 Mean RMSE A: 0.2088066190481186 Mean SAD M: 0.1783921718597412\n",
      "Sigma: 0.5 Sparse Weight: 0.1\n"
     ]
    },
    {
     "name": "stderr",
     "output_type": "stream",
     "text": [
      "100%|██████████| 100/100 [00:43<00:00,  2.31epoch/s, tls=0.1546]\n",
      "100%|██████████| 100/100 [00:41<00:00,  2.42epoch/s, tls=0.1549]\n",
      "100%|██████████| 100/100 [00:43<00:00,  2.30epoch/s, tls=0.1531]\n",
      "100%|██████████| 100/100 [00:44<00:00,  2.26epoch/s, tls=0.1609]\n",
      "100%|██████████| 100/100 [00:45<00:00,  2.22epoch/s, tls=0.1578]\n",
      "100%|██████████| 5/5 [03:37<00:00, 43.53s/it]\n",
      "/tmp/ipykernel_5558/1847138408.py:27: FutureWarning: The frame.append method is deprecated and will be removed from pandas in a future version. Use pandas.concat instead.\n",
      "  results = results.append({'sigma_sparsity': sigma, 'sparse_weight': sparse_weight, 'mean_rmse_x': mean_rmse_x, 'mean_rmse_a': mean_rmse_a, 'mean_sad_m': mean_sad_m}, ignore_index=True)\n"
     ]
    },
    {
     "name": "stdout",
     "output_type": "stream",
     "text": [
      "Mean RMSE X: 0.01968819834291935 Mean RMSE A: 0.2090085983276367 Mean SAD M: 0.1778679221868515\n",
      "Sigma: 0.5 Sparse Weight: 0.25\n"
     ]
    },
    {
     "name": "stderr",
     "output_type": "stream",
     "text": [
      "100%|██████████| 100/100 [00:44<00:00,  2.25epoch/s, tls=0.2347]\n",
      "100%|██████████| 100/100 [00:44<00:00,  2.26epoch/s, tls=0.2361]\n",
      "100%|██████████| 100/100 [00:43<00:00,  2.30epoch/s, tls=0.2328]\n",
      "100%|██████████| 100/100 [00:42<00:00,  2.34epoch/s, tls=0.2354]\n",
      "100%|██████████| 100/100 [00:42<00:00,  2.36epoch/s, tls=0.2298]\n",
      "100%|██████████| 5/5 [03:37<00:00, 43.48s/it]\n",
      "/tmp/ipykernel_5558/1847138408.py:27: FutureWarning: The frame.append method is deprecated and will be removed from pandas in a future version. Use pandas.concat instead.\n",
      "  results = results.append({'sigma_sparsity': sigma, 'sparse_weight': sparse_weight, 'mean_rmse_x': mean_rmse_x, 'mean_rmse_a': mean_rmse_a, 'mean_sad_m': mean_sad_m}, ignore_index=True)\n"
     ]
    },
    {
     "name": "stdout",
     "output_type": "stream",
     "text": [
      "Mean RMSE X: 0.025749996677041052 Mean RMSE A: 0.21713935434818268 Mean SAD M: 0.1759874552488327\n",
      "Sigma: 0.5 Sparse Weight: 0.5\n"
     ]
    },
    {
     "name": "stderr",
     "output_type": "stream",
     "text": [
      "100%|██████████| 100/100 [00:44<00:00,  2.26epoch/s, tls=0.3321]\n",
      "100%|██████████| 100/100 [00:43<00:00,  2.30epoch/s, tls=0.3387]\n",
      "100%|██████████| 100/100 [00:40<00:00,  2.47epoch/s, tls=0.3332]\n",
      "100%|██████████| 100/100 [00:43<00:00,  2.31epoch/s, tls=0.3475]\n",
      "100%|██████████| 100/100 [00:43<00:00,  2.28epoch/s, tls=0.3429]\n",
      "100%|██████████| 5/5 [03:35<00:00, 43.10s/it]\n",
      "/tmp/ipykernel_5558/1847138408.py:27: FutureWarning: The frame.append method is deprecated and will be removed from pandas in a future version. Use pandas.concat instead.\n",
      "  results = results.append({'sigma_sparsity': sigma, 'sparse_weight': sparse_weight, 'mean_rmse_x': mean_rmse_x, 'mean_rmse_a': mean_rmse_a, 'mean_sad_m': mean_sad_m}, ignore_index=True)\n"
     ]
    },
    {
     "name": "stdout",
     "output_type": "stream",
     "text": [
      "Mean RMSE X: 0.03544132709503174 Mean RMSE A: 0.2547645092010498 Mean SAD M: 0.19395798146724702\n",
      "Sigma: 0.5 Sparse Weight: 1\n"
     ]
    },
    {
     "name": "stderr",
     "output_type": "stream",
     "text": [
      "100%|██████████| 100/100 [00:41<00:00,  2.39epoch/s, tls=0.2774]\n",
      "100%|██████████| 100/100 [00:39<00:00,  2.52epoch/s, tls=0.2292]\n",
      "100%|██████████| 100/100 [00:42<00:00,  2.37epoch/s, tls=0.2691]\n",
      "100%|██████████| 100/100 [00:43<00:00,  2.31epoch/s, tls=0.2785]\n",
      "100%|██████████| 100/100 [00:42<00:00,  2.35epoch/s, tls=0.2821]\n",
      "100%|██████████| 5/5 [03:29<00:00, 41.98s/it]"
     ]
    },
    {
     "name": "stdout",
     "output_type": "stream",
     "text": [
      "Mean RMSE X: 0.05990060716867447 Mean RMSE A: 0.28120208978652955 Mean SAD M: 0.1712729513645172\n"
     ]
    },
    {
     "name": "stderr",
     "output_type": "stream",
     "text": [
      "\n",
      "/tmp/ipykernel_5558/1847138408.py:27: FutureWarning: The frame.append method is deprecated and will be removed from pandas in a future version. Use pandas.concat instead.\n",
      "  results = results.append({'sigma_sparsity': sigma, 'sparse_weight': sparse_weight, 'mean_rmse_x': mean_rmse_x, 'mean_rmse_a': mean_rmse_a, 'mean_sad_m': mean_sad_m}, ignore_index=True)\n"
     ]
    }
   ],
   "source": [
    "from sklearn.model_selection import ParameterGrid\n",
    "from utils import train \n",
    "from HySpecLab.unmixing import ContrastiveUnmixing\n",
    "import pandas as pd\n",
    "from tqdm import tqdm\n",
    "\n",
    "n_bands = dataset.n_bands\n",
    "results = pd.DataFrame(columns=['sigma_sparsity', 'sparse_weight', 'mean_rmse_x', 'mean_rmse_a', 'mean_sad_m'])\n",
    "for params in ParameterGrid(param_grid):\n",
    "    sigma = params['sigma_sparsity']\n",
    "    sparse_weight = params['sparse_weight']\n",
    "    print('Sigma:', sigma, 'Sparse Weight:', sparse_weight)\n",
    "    batch_rmse_x, batch_rmse_a, batch_sad_m = [], [], []\n",
    "\n",
    "    for i in tqdm(range(5)):\n",
    "        model = ContrastiveUnmixing(n_bands, n_endmembers, endmember_init=logit_endmember_init, sigma_sparsity=sigma)\n",
    "        train(model, n_endmembers, dataset, n_batchs=50, n_epochs=100, lr=1e-3, similarity_weight=1, sparse_weight=sparse_weight)\n",
    "        rmse_x, rmse_a, sad_m = test(model, dataset)\n",
    "        batch_rmse_x.append(rmse_x)\n",
    "        batch_rmse_a.append(rmse_a)\n",
    "        batch_sad_m.append(sad_m)\n",
    "\n",
    "    mean_rmse_x = sum(batch_rmse_x) / len(batch_rmse_x)\n",
    "    mean_rmse_a = sum(batch_rmse_a) / len(batch_rmse_a)\n",
    "    mean_sad_m = sum(batch_sad_m) / len(batch_sad_m)\n",
    "    \n",
    "    results = results.append({'sigma_sparsity': sigma, 'sparse_weight': sparse_weight, 'mean_rmse_x': mean_rmse_x, 'mean_rmse_a': mean_rmse_a, 'mean_sad_m': mean_sad_m}, ignore_index=True)\n",
    "    print('Mean RMSE X:', mean_rmse_x, 'Mean RMSE A:', mean_rmse_a, 'Mean SAD M:', mean_sad_m)"
   ]
  },
  {
   "cell_type": "code",
   "execution_count": 28,
   "metadata": {},
   "outputs": [
    {
     "data": {
      "text/html": [
       "<div>\n",
       "<style scoped>\n",
       "    .dataframe tbody tr th:only-of-type {\n",
       "        vertical-align: middle;\n",
       "    }\n",
       "\n",
       "    .dataframe tbody tr th {\n",
       "        vertical-align: top;\n",
       "    }\n",
       "\n",
       "    .dataframe thead th {\n",
       "        text-align: right;\n",
       "    }\n",
       "</style>\n",
       "<table border=\"1\" class=\"dataframe\">\n",
       "  <thead>\n",
       "    <tr style=\"text-align: right;\">\n",
       "      <th></th>\n",
       "      <th>sigma_sparsity</th>\n",
       "      <th>sparse_weight</th>\n",
       "      <th>mean_rmse_x</th>\n",
       "      <th>mean_rmse_a</th>\n",
       "      <th>mean_sad_m</th>\n",
       "    </tr>\n",
       "  </thead>\n",
       "  <tbody>\n",
       "    <tr>\n",
       "      <th>0</th>\n",
       "      <td>0.05</td>\n",
       "      <td>0.00</td>\n",
       "      <td>0.019808</td>\n",
       "      <td>0.228428</td>\n",
       "      <td>0.200195</td>\n",
       "    </tr>\n",
       "    <tr>\n",
       "      <th>1</th>\n",
       "      <td>0.05</td>\n",
       "      <td>0.05</td>\n",
       "      <td>0.020851</td>\n",
       "      <td>0.229496</td>\n",
       "      <td>0.174382</td>\n",
       "    </tr>\n",
       "    <tr>\n",
       "      <th>2</th>\n",
       "      <td>0.05</td>\n",
       "      <td>0.10</td>\n",
       "      <td>0.020368</td>\n",
       "      <td>0.229776</td>\n",
       "      <td>0.171695</td>\n",
       "    </tr>\n",
       "    <tr>\n",
       "      <th>3</th>\n",
       "      <td>0.05</td>\n",
       "      <td>0.25</td>\n",
       "      <td>0.020029</td>\n",
       "      <td>0.223247</td>\n",
       "      <td>0.156801</td>\n",
       "    </tr>\n",
       "    <tr>\n",
       "      <th>4</th>\n",
       "      <td>0.05</td>\n",
       "      <td>0.50</td>\n",
       "      <td>0.030671</td>\n",
       "      <td>0.233073</td>\n",
       "      <td>0.156887</td>\n",
       "    </tr>\n",
       "    <tr>\n",
       "      <th>5</th>\n",
       "      <td>0.05</td>\n",
       "      <td>1.00</td>\n",
       "      <td>0.098411</td>\n",
       "      <td>0.445332</td>\n",
       "      <td>0.231843</td>\n",
       "    </tr>\n",
       "    <tr>\n",
       "      <th>6</th>\n",
       "      <td>0.10</td>\n",
       "      <td>0.00</td>\n",
       "      <td>0.020125</td>\n",
       "      <td>0.227213</td>\n",
       "      <td>0.172452</td>\n",
       "    </tr>\n",
       "    <tr>\n",
       "      <th>7</th>\n",
       "      <td>0.10</td>\n",
       "      <td>0.05</td>\n",
       "      <td>0.020140</td>\n",
       "      <td>0.229757</td>\n",
       "      <td>0.171308</td>\n",
       "    </tr>\n",
       "    <tr>\n",
       "      <th>8</th>\n",
       "      <td>0.10</td>\n",
       "      <td>0.10</td>\n",
       "      <td>0.021145</td>\n",
       "      <td>0.224907</td>\n",
       "      <td>0.166746</td>\n",
       "    </tr>\n",
       "    <tr>\n",
       "      <th>9</th>\n",
       "      <td>0.10</td>\n",
       "      <td>0.25</td>\n",
       "      <td>0.020522</td>\n",
       "      <td>0.221848</td>\n",
       "      <td>0.154355</td>\n",
       "    </tr>\n",
       "    <tr>\n",
       "      <th>10</th>\n",
       "      <td>0.10</td>\n",
       "      <td>0.50</td>\n",
       "      <td>0.032969</td>\n",
       "      <td>0.232806</td>\n",
       "      <td>0.152263</td>\n",
       "    </tr>\n",
       "    <tr>\n",
       "      <th>11</th>\n",
       "      <td>0.10</td>\n",
       "      <td>1.00</td>\n",
       "      <td>0.061499</td>\n",
       "      <td>0.423316</td>\n",
       "      <td>0.225454</td>\n",
       "    </tr>\n",
       "    <tr>\n",
       "      <th>12</th>\n",
       "      <td>0.25</td>\n",
       "      <td>0.00</td>\n",
       "      <td>0.020826</td>\n",
       "      <td>0.218601</td>\n",
       "      <td>0.181782</td>\n",
       "    </tr>\n",
       "    <tr>\n",
       "      <th>13</th>\n",
       "      <td>0.25</td>\n",
       "      <td>0.05</td>\n",
       "      <td>0.019678</td>\n",
       "      <td>0.220632</td>\n",
       "      <td>0.177400</td>\n",
       "    </tr>\n",
       "    <tr>\n",
       "      <th>14</th>\n",
       "      <td>0.25</td>\n",
       "      <td>0.10</td>\n",
       "      <td>0.020190</td>\n",
       "      <td>0.218914</td>\n",
       "      <td>0.169607</td>\n",
       "    </tr>\n",
       "    <tr>\n",
       "      <th>15</th>\n",
       "      <td>0.25</td>\n",
       "      <td>0.25</td>\n",
       "      <td>0.021174</td>\n",
       "      <td>0.217160</td>\n",
       "      <td>0.151432</td>\n",
       "    </tr>\n",
       "    <tr>\n",
       "      <th>16</th>\n",
       "      <td>0.25</td>\n",
       "      <td>0.50</td>\n",
       "      <td>0.031202</td>\n",
       "      <td>0.229598</td>\n",
       "      <td>0.148260</td>\n",
       "    </tr>\n",
       "    <tr>\n",
       "      <th>17</th>\n",
       "      <td>0.25</td>\n",
       "      <td>1.00</td>\n",
       "      <td>0.057756</td>\n",
       "      <td>0.348101</td>\n",
       "      <td>0.180539</td>\n",
       "    </tr>\n",
       "    <tr>\n",
       "      <th>18</th>\n",
       "      <td>0.50</td>\n",
       "      <td>0.00</td>\n",
       "      <td>0.018524</td>\n",
       "      <td>0.202645</td>\n",
       "      <td>0.178452</td>\n",
       "    </tr>\n",
       "    <tr>\n",
       "      <th>19</th>\n",
       "      <td>0.50</td>\n",
       "      <td>0.05</td>\n",
       "      <td>0.018598</td>\n",
       "      <td>0.208807</td>\n",
       "      <td>0.178392</td>\n",
       "    </tr>\n",
       "    <tr>\n",
       "      <th>20</th>\n",
       "      <td>0.50</td>\n",
       "      <td>0.10</td>\n",
       "      <td>0.019688</td>\n",
       "      <td>0.209009</td>\n",
       "      <td>0.177868</td>\n",
       "    </tr>\n",
       "    <tr>\n",
       "      <th>21</th>\n",
       "      <td>0.50</td>\n",
       "      <td>0.25</td>\n",
       "      <td>0.025750</td>\n",
       "      <td>0.217139</td>\n",
       "      <td>0.175987</td>\n",
       "    </tr>\n",
       "    <tr>\n",
       "      <th>22</th>\n",
       "      <td>0.50</td>\n",
       "      <td>0.50</td>\n",
       "      <td>0.035441</td>\n",
       "      <td>0.254765</td>\n",
       "      <td>0.193958</td>\n",
       "    </tr>\n",
       "    <tr>\n",
       "      <th>23</th>\n",
       "      <td>0.50</td>\n",
       "      <td>1.00</td>\n",
       "      <td>0.059901</td>\n",
       "      <td>0.281202</td>\n",
       "      <td>0.171273</td>\n",
       "    </tr>\n",
       "  </tbody>\n",
       "</table>\n",
       "</div>"
      ],
      "text/plain": [
       "    sigma_sparsity  sparse_weight  mean_rmse_x  mean_rmse_a  mean_sad_m\n",
       "0             0.05           0.00     0.019808     0.228428    0.200195\n",
       "1             0.05           0.05     0.020851     0.229496    0.174382\n",
       "2             0.05           0.10     0.020368     0.229776    0.171695\n",
       "3             0.05           0.25     0.020029     0.223247    0.156801\n",
       "4             0.05           0.50     0.030671     0.233073    0.156887\n",
       "5             0.05           1.00     0.098411     0.445332    0.231843\n",
       "6             0.10           0.00     0.020125     0.227213    0.172452\n",
       "7             0.10           0.05     0.020140     0.229757    0.171308\n",
       "8             0.10           0.10     0.021145     0.224907    0.166746\n",
       "9             0.10           0.25     0.020522     0.221848    0.154355\n",
       "10            0.10           0.50     0.032969     0.232806    0.152263\n",
       "11            0.10           1.00     0.061499     0.423316    0.225454\n",
       "12            0.25           0.00     0.020826     0.218601    0.181782\n",
       "13            0.25           0.05     0.019678     0.220632    0.177400\n",
       "14            0.25           0.10     0.020190     0.218914    0.169607\n",
       "15            0.25           0.25     0.021174     0.217160    0.151432\n",
       "16            0.25           0.50     0.031202     0.229598    0.148260\n",
       "17            0.25           1.00     0.057756     0.348101    0.180539\n",
       "18            0.50           0.00     0.018524     0.202645    0.178452\n",
       "19            0.50           0.05     0.018598     0.208807    0.178392\n",
       "20            0.50           0.10     0.019688     0.209009    0.177868\n",
       "21            0.50           0.25     0.025750     0.217139    0.175987\n",
       "22            0.50           0.50     0.035441     0.254765    0.193958\n",
       "23            0.50           1.00     0.059901     0.281202    0.171273"
      ]
     },
     "execution_count": 28,
     "metadata": {},
     "output_type": "execute_result"
    }
   ],
   "source": [
    "results"
   ]
  },
  {
   "cell_type": "code",
   "execution_count": 30,
   "metadata": {},
   "outputs": [],
   "source": [
    "csv_save_path = os.path.join(result_path, 'hyperparameters.csv')\n",
    "results.to_csv(csv_save_path, index=False)"
   ]
  },
  {
   "cell_type": "code",
   "execution_count": 35,
   "metadata": {},
   "outputs": [
    {
     "data": {
      "image/png": "[encoded data removed]",
      "text/plain": [
       "<Figure size 700x500 with 1 Axes>"
      ]
     },
     "metadata": {},
     "output_type": "display_data"
    }
   ],
   "source": [
    "M_hat = sigmoid(model.ebk.detach().cpu()).numpy()\n",
    "\n",
    "fig = plot_endmembers(M_hat, dataset.wv, ticks_range=(0, 1))\n",
    "plt.show(fig)"
   ]
  },
  {
   "cell_type": "code",
   "execution_count": null,
   "metadata": {},
   "outputs": [],
   "source": []
  },
  {
   "cell_type": "code",
   "execution_count": null,
   "metadata": {},
   "outputs": [],
   "source": [
    "# test = model._sparse.detach().cpu().numpy().reshape(dataset.n_row, dataset.n_col)\n",
    "test = model.sparse_gate.variational_parameter().detach().cpu().numpy().reshape(dataset.n_row, dataset.n_col)\n",
    "test = np.log(test)\n",
    "fig = plt.figure(figsize=(6,4))\n",
    "plt.imshow(test.T, cmap='jet')\n",
    "plt.grid(False)\n",
    "# remove ticks\n",
    "plt.xticks([])\n",
    "plt.yticks([])\n",
    "cbar = plt.colorbar()\n",
    "cbar.set_label(f'$\\\\log(\\\\tau)$', rotation=90, labelpad=8, fontsize='x-large')\n",
    "# title to the colorbar\n",
    "plt.show()\n",
    "\n",
    "# fig.savefig(os.path.join(result_path, f'clhu/imgs/sparsity_estimation_{endmember_init_method}.pdf'), dpi=300, bbox_inches='tight')\n"
   ]
  },
  {
   "cell_type": "code",
   "execution_count": null,
   "metadata": {},
   "outputs": [],
   "source": [
    "X_true = dataset.A @ dataset.endmembers()\n",
    "X_hat = model(dataset.X).detach().cpu()\n",
    "A_hat = torch.softmax(model.A.detach().cpu(), dim=1)\n",
    "M_hat = sigmoid(model.ebk.detach().cpu())\n",
    "\n",
    "real_M_hat = model(M_hat).detach()\n",
    "\n",
    "import pandas as pd\n",
    "df = pd.DataFrame(columns=['Method', 'RMSE_X', 'RMSE_A', 'SAD_M'])\n",
    "df['Method'] = ['CLHU']\n",
    "df['RMSE_X'] = [rmse(X_true, X_hat, dim=None).numpy()]\n",
    "df['RMSE_A'] = [rmse(dataset.A, A_hat, dim=None).numpy()]\n",
    "\n",
    "# sad_result = sad(M_hat, dataset.endmembers()).numpy()\n",
    "sad_result = sad(real_M_hat, dataset.endmembers()).numpy()\n",
    "df['SAD_M'] = np.diagonal(sad_result).mean()\n",
    "\n",
    "# df.to_csv(os.path.join(result_path, 'clhu/metrics.csv'), index=False)\n",
    "df"
   ]
  },
  {
   "cell_type": "code",
   "execution_count": null,
   "metadata": {},
   "outputs": [],
   "source": [
    "# model.ebk = sigmoid(model.ebk)\n",
    "x_test = sigmoid(model.ebk)\n",
    "m = model.ebk.detach()\n",
    "model.eval()\n",
    "print(x_test.min(), x_test.max())\n",
    "encoder, projection = model.encoder, model.projection\n",
    "from torch.nn.functional import normalize, softmax\n",
    "\n",
    "def __similarity(X: torch.Tensor, ebk, temperature=1e-2) -> torch.Tensor:\n",
    "        '''\n",
    "            Cosine similarity between input and endmember bank.\n",
    "\n",
    "            Parameters\n",
    "            ----------\n",
    "                x: torch.Tensor, shape=(batch_size, n_bands)\n",
    "                    input tensor.\n",
    "                \n",
    "                temperature: float, default=1e-1\n",
    "                    temperature parameter for contrastive learning.\n",
    "                \n",
    "        '''\n",
    "        bs, n_bands = X.shape\n",
    "        X = normalize(X, dim=1)\n",
    "\n",
    "        normalize_ebk = normalize(ebk.detach(), dim=1).expand(bs, -1, -1)\n",
    "        cos = torch.bmm(X.view(bs, 1, n_bands), torch.transpose(normalize_ebk, 1, 2)).squeeze()\n",
    "        # return (1 - torch.pow(cos, 2))/temperature\n",
    "        # return (torch.pow(cos, 2))/temperature\n",
    "        return torch.log(torch.pow(cos, 2))\n",
    "\n",
    "# y = projection(encoder(x_test))\n",
    "# print(softmax(__similarity(y, m, temperature=.1).detach(), dim=1))\n",
    "\n",
    "test = model(x_test)\n",
    "\n",
    "plt.plot(test[2].detach().numpy())\n",
    "plt.plot(x_test[2].detach().numpy())\n",
    "plt.show()\n",
    "\n",
    "softmax(model.A)"
   ]
  },
  {
   "attachments": {},
   "cell_type": "markdown",
   "metadata": {},
   "source": [
    "# ..."
   ]
  },
  {
   "cell_type": "code",
   "execution_count": null,
   "metadata": {},
   "outputs": [],
   "source": [
    "from torch import sigmoid\n",
    "def test(model, dataset):\n",
    "    X = dataset.X\n",
    "    model.eval()\n",
    "    model = model.cpu()\n",
    "    \n",
    "    X_true = dataset.A @ dataset.endmembers()\n",
    "    with torch.no_grad():\n",
    "        X_hat = model(dataset.X)\n",
    "        A_hat = torch.softmax(model.A, dim=1)\n",
    "        M_hat = sigmoid(model.ebk) \n",
    "    \n",
    "    rmse_x = rmse(X_true, X_hat, dim=None).numpy()      \n",
    "    rmse_a = rmse(dataset.A, A_hat, dim=None).numpy()\n",
    "    sad_m = np.diagonal(sad(M_hat, dataset.endmembers()).numpy()).mean()\n",
    "    return rmse_x.item(), rmse_a.item(), sad_m"
   ]
  },
  {
   "cell_type": "code",
   "execution_count": null,
   "metadata": {},
   "outputs": [],
   "source": [
    "from utils import train \n",
    "from HySpecLab.unmixing import ContrastiveUnmixing\n",
    "\n",
    "n_bands = dataset.n_bands\n",
    "\n",
    "batch_rmse_x = []\n",
    "batch_rmse_a = []\n",
    "batch_sad_m = []\n",
    "for i in range(10):\n",
    "    model = ContrastiveUnmixing(n_bands, n_endmembers, endmember_init=logit_endmember_init, sigma_sparsity=.25)\n",
    "    train(model, n_endmembers, dataset, n_batchs=100, n_epochs=100, lr=1e-3, similarity_weight=1, sparse_weight=.5)\n",
    "\n",
    "    rmse_x, rmse_a, sad_m = test(model, dataset)\n",
    "    batch_rmse_x.append(rmse_x)\n",
    "    batch_rmse_a.append(rmse_a)\n",
    "    batch_sad_m.append(sad_m)\n",
    "\n",
    "    print(rmse_x, rmse_a, sad_m)"
   ]
  },
  {
   "cell_type": "code",
   "execution_count": null,
   "metadata": {},
   "outputs": [],
   "source": [
    "# generate dataframe\n",
    "import pandas as pd\n",
    "df = pd.DataFrame(columns=['RMSE_X', 'RMSE_A', 'SAD_M'])\n",
    "df['RMSE_X'] = batch_rmse_x\n",
    "df['RMSE_A'] = batch_rmse_a\n",
    "df['SAD_M'] = batch_sad_m\n",
    "\n",
    "# extract mean and std\n",
    "df['RMSE_X'].mean(), df['RMSE_X'].std(), df['RMSE_A'].mean(), df['RMSE_A'].std(), df['SAD_M'].mean(), df['SAD_M'].std()"
   ]
  },
  {
   "cell_type": "code",
   "execution_count": null,
   "metadata": {},
   "outputs": [],
   "source": [
    "df.to_csv(os.path.join(result_path, 'clhu/metrics_{}_batch.csv'.format(endmember_init_method)), index=False)"
   ]
  },
  {
   "cell_type": "code",
   "execution_count": null,
   "metadata": {},
   "outputs": [],
   "source": [
    "os.path.join(result_path, 'clhu/metrics_{}_batch.csv'.format(endmember_init_method))"
   ]
  },
  {
   "cell_type": "code",
   "execution_count": null,
   "metadata": {},
   "outputs": [],
   "source": [
    "plt.plot(sigmoid(model.ebk).T.detach().cpu().numpy())\n",
    "plt.show()"
   ]
  },
  {
   "cell_type": "code",
   "execution_count": null,
   "metadata": {},
   "outputs": [],
   "source": [
    "plt.plot(test.T.detach().cpu().numpy())\n",
    "plt.show()\n",
    "\n",
    "sad_m = np.diagonal(sad(test, dataset.endmembers()).detach().numpy()).mean()\n",
    "sad_m"
   ]
  },
  {
   "cell_type": "code",
   "execution_count": null,
   "metadata": {},
   "outputs": [],
   "source": [
    "from torch.nn.functional import normalize   \n",
    "M = logit_endmember_init\n",
    "M_norm = normalize(M, dim=1)\n",
    "\n",
    "sim_matrix = torch.mm(M_norm, M_norm.T) / .1\n",
    "\n",
    "logit = torch.log((sim_matrix).softmax(dim=1))\n",
    "lo2 = (sim_matrix).log_softmax(dim=1)\n",
    "\n",
    "sim_matrix, torch.isclose(logit, lo2)\n"
   ]
  },
  {
   "cell_type": "code",
   "execution_count": null,
   "metadata": {},
   "outputs": [],
   "source": [
    "M_2 = M.clone()\n",
    "\n",
    "M_2[0] = M_2[2]\n",
    "M_norm = normalize(M_2, dim=1)\n",
    "\n",
    "sim_matrix = torch.mm(M_norm, M_norm.T) / .1\n",
    "\n",
    "logit = torch.log((sim_matrix).softmax(dim=1))\n",
    "lo2 = (sim_matrix).log_softmax(dim=1)\n",
    "\n",
    "sim_matrix, torch.isclose(logit, lo2)\n",
    "\n",
    "# (sim_matrix).softmax(dim=1)"
   ]
  },
  {
   "cell_type": "code",
   "execution_count": null,
   "metadata": {},
   "outputs": [],
   "source": [
    "import torch\n",
    "from torch.nn.functional import dropout2d\n",
    "\n",
    "X = torch.randn(1, 3, 3, 3)\n",
    "hat_X = dropout2d(X, p=.5, training=True)"
   ]
  }
 ],
 "metadata": {
  "kernelspec": {
   "display_name": "CLHU",
   "language": "python",
   "name": "python3"
  },
  "language_info": {
   "codemirror_mode": {
    "name": "ipython",
    "version": 3
   },
   "file_extension": ".py",
   "mimetype": "text/x-python",
   "name": "python",
   "nbconvert_exporter": "python",
   "pygments_lexer": "ipython3",
   "version": "3.10.9"
  },
  "orig_nbformat": 4
 },
 "nbformat": 4,
 "nbformat_minor": 2
}
